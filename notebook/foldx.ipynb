{
 "cells": [
  {
   "attachments": {},
   "cell_type": "markdown",
   "id": "1da198f5-8576-4391-a563-554b578fe065",
   "metadata": {},
   "source": [
    "# Installation\n",
    "---"
   ]
  },
  {
   "attachments": {},
   "cell_type": "markdown",
   "id": "38b5d2c1-f1fe-4d46-9182-f7bc1da46c4b",
   "metadata": {},
   "source": [
    "Had to register to their website https://foldxsuite.crg.eu/academic-license-info"
   ]
  },
  {
   "attachments": {},
   "cell_type": "markdown",
   "id": "5f87af07-6e8c-4bcb-97a8-e902f7735d68",
   "metadata": {},
   "source": [
    "They sent me an email to download the files:"
   ]
  },
  {
   "cell_type": "raw",
   "id": "7009b86c-4054-436c-83ff-eb27c47241f1",
   "metadata": {},
   "source": [
    "Dear visitor,\n",
    "\n",
    "Thank you for your interest.\n",
    "Please use the following link to download the files:\n",
    "https://urldefense.com/v3/__https://foldxsuite.crg.eu/node/732/download/26a6f03c56a91a6134ebb35e5f8da057__;!!Nmw4Hv0!im2uq-ssX3Y8kOQ2-1P7sTGaYbN4WIV2lHUtql-ILtCoIpHM2j9WuE2St5P9ZflmDT7PzSNKFxfHZg$\n",
    "\n",
    "This link will be accessible until Wed, 03/30/2022 - 18:25. If you need\n",
    "access after the link expires, don't hesitate to revisit the download page on\n",
    "https://urldefense.com/v3/__https://foldxsuite.crg.eu/__;!!Nmw4Hv0!im2uq-ssX3Y8kOQ2-1P7sTGaYbN4WIV2lHUtql-ILtCoIpHM2j9WuE2St5P9ZflmDT7PzSNOWaLIEw$"
   ]
  },
  {
   "attachments": {},
   "cell_type": "markdown",
   "id": "20f87348-7c82-4b85-b880-923f72d90e5c",
   "metadata": {},
   "source": [
    "Downloaded the file `foldx5Linux64.tar_.gz` to `/ibex/scratch/guzmanfj/py/aroldlab/FoldX_ibex/lib`"
   ]
  },
  {
   "attachments": {},
   "cell_type": "markdown",
   "id": "256d78b9-7f24-4ff8-9c33-396ddb8d45d2",
   "metadata": {},
   "source": [
    "After extracting the archive, I have:\n",
    "\n",
    "- `foldx_20221231` executable\n",
    "- `molecules` directory\n",
    "- `yasaraPlugin.zip`"
   ]
  },
  {
   "attachments": {},
   "cell_type": "markdown",
   "id": "1521af93-054e-4c88-a876-5833823fae14",
   "metadata": {},
   "source": [
    "Run the `foldx_20221231` program to create the `rotbase.txt` file"
   ]
  },
  {
   "attachments": {},
   "cell_type": "markdown",
   "id": "e0bae59f",
   "metadata": {},
   "source": [
    "# New installation\n",
    "---"
   ]
  },
  {
   "cell_type": "code",
   "execution_count": 1,
   "id": "07775b23",
   "metadata": {},
   "outputs": [
    {
     "name": "stdout",
     "output_type": "stream",
     "text": [
      "Fri Jun  2 13:21:07 +03 2023\n"
     ]
    }
   ],
   "source": [
    "!date"
   ]
  },
  {
   "attachments": {},
   "cell_type": "markdown",
   "id": "ff0a9df7",
   "metadata": {},
   "source": [
    "Had to re-download the software. I only had to log in with my previous credentials.\n",
    "\n",
    "Downloaded the `_foldx5Linux64.tar_.gz` file"
   ]
  },
  {
   "attachments": {},
   "cell_type": "markdown",
   "id": "2f2a695f",
   "metadata": {},
   "source": [
    "After extracting the archive, I have:\n",
    "\n",
    "- `foldx_20231231` executable\n",
    "- `molecules` directory\n",
    "- `yasaraPlugin.zip`"
   ]
  },
  {
   "attachments": {},
   "cell_type": "markdown",
   "id": "ba67af33",
   "metadata": {},
   "source": [
    "Run the `foldx_20231231` program to create the `rotbase.txt` file"
   ]
  },
  {
   "cell_type": "raw",
   "id": "a3da5925",
   "metadata": {},
   "source": [
    "(base) login509-02-l:/ibex/user/guzmanfj/py/FoldX_ibex/lib$ ./foldx_20231231\n",
    "   ********************************************\n",
    "   ***                                      ***\n",
    "   ***             FoldX 5 (c)              ***\n",
    "   ***                                      ***\n",
    "   ***     code by the FoldX Consortium     ***\n",
    "   ***                                      ***\n",
    "   ***     Jesper Borg, Frederic Rousseau   ***\n",
    "   ***    Joost Schymkowitz, Luis Serrano   ***\n",
    "   ***    Peter Vanhee, Erik Verschueren    ***\n",
    "   ***     Lies Baeten, Javier Delgado      ***\n",
    "   ***       and Francois Stricher          ***\n",
    "   *** and any other of the 9! permutations ***\n",
    "   ***   based on an original concept by    ***\n",
    "   ***   Raphael Guerois and Luis Serrano   ***\n",
    "   ********************************************\n",
    "\n",
    " *** THIS IS AN IMPORTANT MESSAGE:\n",
    " >> External parametrized molecules were detected...\n",
    " >> Final energetic values will depend of the correct parametrization of this molecules.\n",
    "\n",
    "\n",
    "No pdbs for the run found at:\n",
    "\"\"\n",
    "Foldx will end"
   ]
  },
  {
   "cell_type": "markdown",
   "id": "125193b4",
   "metadata": {},
   "source": [
    "# New installation\n",
    "---"
   ]
  },
  {
   "cell_type": "code",
   "execution_count": 1,
   "id": "f3c41a8a",
   "metadata": {},
   "outputs": [
    {
     "name": "stdout",
     "output_type": "stream",
     "text": [
      "Sun Jan 21 20:16:34 +03 2024\n"
     ]
    }
   ],
   "source": [
    "!date"
   ]
  },
  {
   "cell_type": "markdown",
   "id": "2814f912",
   "metadata": {},
   "source": [
    "Had to re-download the software. I only had to log in with my previous credentials.\n",
    "\n",
    "Downloaded the `foldx5Linux64.zip` file at `/ibex/user/guzmanfj/py/FoldX_ibex/lib/foldx5Linux64.zip`"
   ]
  },
  {
   "cell_type": "markdown",
   "id": "a661d242",
   "metadata": {},
   "source": [
    "After extracting the archive, I have:"
   ]
  },
  {
   "cell_type": "raw",
   "id": "dd0a18d3",
   "metadata": {},
   "source": [
    "(base) login510-22:/ibex/user/guzmanfj/py/FoldX_ibex/lib$ ll\n",
    "total 107M\n",
    "-rwxr--r-- 1 guzmanfj g-guzmanfj 78M Dec 28 18:06 foldx_20241231*\n",
    "-rw-r--r-- 1 guzmanfj g-guzmanfj 29M Jan 21 20:15 foldx5Linux64.zip\n",
    "drwxr-xr-x 1 guzmanfj g-guzmanfj   0 Jan 21 20:17 molecules/\n",
    "-rw-r--r-- 1 guzmanfj g-guzmanfj 47K Dec 28 16:06 yasaraPlugin.zip"
   ]
  },
  {
   "cell_type": "markdown",
   "id": "778a2cc9",
   "metadata": {},
   "source": [
    "Run the `foldx_20231231` program to create the `rotbase.txt` file"
   ]
  },
  {
   "cell_type": "raw",
   "id": "7c9a65ca",
   "metadata": {},
   "source": [
    "(base) login509-02-l:/ibex/user/guzmanfj/py/FoldX_ibex/lib$ ./foldx_20231231\n",
    "   ********************************************\n",
    "   ***                                      ***\n",
    "   ***             FoldX 5 (c)              ***\n",
    "   ***                                      ***\n",
    "   ***     code by the FoldX Consortium     ***\n",
    "   ***                                      ***\n",
    "   ***     Jesper Borg, Frederic Rousseau   ***\n",
    "   ***    Joost Schymkowitz, Luis Serrano   ***\n",
    "   ***    Peter Vanhee, Erik Verschueren    ***\n",
    "   ***     Lies Baeten, Javier Delgado      ***\n",
    "   ***       and Francois Stricher          ***\n",
    "   *** and any other of the 9! permutations ***\n",
    "   ***   based on an original concept by    ***\n",
    "   ***   Raphael Guerois and Luis Serrano   ***\n",
    "   ********************************************\n",
    "\n",
    " *** THIS IS AN IMPORTANT MESSAGE:\n",
    " >> External parametrized molecules were detected...\n",
    " >> Final energetic values will depend of the correct parametrization of this molecules.\n",
    "\n",
    "\n",
    "No pdbs for the run found at:\n",
    "\"\"\n",
    "Foldx will end"
   ]
  },
  {
   "cell_type": "markdown",
   "id": "67d4a183",
   "metadata": {},
   "source": [
    "# New installation\n",
    "---"
   ]
  },
  {
   "cell_type": "markdown",
   "id": "e8799ab5",
   "metadata": {},
   "source": [
    "`22-Jan-2025`"
   ]
  },
  {
   "cell_type": "markdown",
   "id": "fa149735",
   "metadata": {},
   "source": [
    "Had to re-download the software. I only had to log in with my previous credentials.\n",
    "\n",
    "Downloaded the `foldx5Linux64.zip` file at `/ibex/user/guzmanfj/py/FoldX_ibex/lib/foldx5Linux64.zip`"
   ]
  },
  {
   "cell_type": "markdown",
   "id": "b388c367",
   "metadata": {},
   "source": [
    "After extracting the archive, I have:"
   ]
  },
  {
   "cell_type": "raw",
   "id": "278af881",
   "metadata": {},
   "source": [
    "(base) login510-22:/ibex/user/guzmanfj/py/FoldX_ibex/lib$ ll\n",
    "total 107M\n",
    "-rwxr--r-- 1 guzmanfj g-guzmanfj 78M Dec 28 18:06 foldx_20241231*\n",
    "-rw-r--r-- 1 guzmanfj g-guzmanfj 29M Jan 21 20:15 foldx5Linux64.zip\n",
    "drwxr-xr-x 1 guzmanfj g-guzmanfj   0 Jan 21 20:17 molecules/\n",
    "-rw-r--r-- 1 guzmanfj g-guzmanfj 47K Dec 28 16:06 yasaraPlugin.zip"
   ]
  },
  {
   "cell_type": "markdown",
   "id": "07cefae7",
   "metadata": {},
   "source": [
    "Run the `foldx_20231231` program to create the `rotbase.txt` file"
   ]
  },
  {
   "cell_type": "raw",
   "id": "61526710",
   "metadata": {},
   "source": [
    "(base) login509-02-l:/ibex/user/guzmanfj/py/FoldX_ibex/lib$ ./foldx_20231231\n",
    "   ********************************************\n",
    "   ***                                      ***\n",
    "   ***             FoldX 5 (c)              ***\n",
    "   ***                                      ***\n",
    "   ***     code by the FoldX Consortium     ***\n",
    "   ***                                      ***\n",
    "   ***     Jesper Borg, Frederic Rousseau   ***\n",
    "   ***    Joost Schymkowitz, Luis Serrano   ***\n",
    "   ***    Peter Vanhee, Erik Verschueren    ***\n",
    "   ***     Lies Baeten, Javier Delgado      ***\n",
    "   ***       and Francois Stricher          ***\n",
    "   *** and any other of the 9! permutations ***\n",
    "   ***   based on an original concept by    ***\n",
    "   ***   Raphael Guerois and Luis Serrano   ***\n",
    "   ********************************************\n",
    "\n",
    " *** THIS IS AN IMPORTANT MESSAGE:\n",
    " >> External parametrized molecules were detected...\n",
    " >> Final energetic values will depend of the correct parametrization of this molecules.\n",
    "\n",
    "\n",
    "No pdbs for the run found at:\n",
    "\"\"\n",
    "Foldx will end"
   ]
  },
  {
   "attachments": {},
   "cell_type": "markdown",
   "id": "0e997d16-4970-4a94-b340-0a0cb3b302a6",
   "metadata": {},
   "source": [
    "# Usage\n",
    "---"
   ]
  },
  {
   "attachments": {},
   "cell_type": "markdown",
   "id": "822d223c-8550-45b9-9257-c3d5db4afda4",
   "metadata": {},
   "source": [
    "See manual at https://foldxsuite.crg.eu/documentation#manual"
   ]
  },
  {
   "attachments": {},
   "cell_type": "markdown",
   "id": "7b9135fd-c924-484a-8c24-bc227e1494c3",
   "metadata": {},
   "source": [
    "## RepairPDB"
   ]
  },
  {
   "attachments": {},
   "cell_type": "markdown",
   "id": "5b7185c0-8128-4538-a57a-6792b50b9f3d",
   "metadata": {},
   "source": [
    "```bash\n",
    "foldx_20221231 --command=RepairPDB --pdb=RP.pdb\n",
    "```"
   ]
  },
  {
   "attachments": {},
   "cell_type": "markdown",
   "id": "07086b21-4bea-47d8-82f5-445877b7f478",
   "metadata": {},
   "source": [
    "### Example with 2oun"
   ]
  },
  {
   "attachments": {},
   "cell_type": "markdown",
   "id": "7534f60e-d795-4f11-b49d-6d260cb6f849",
   "metadata": {},
   "source": [
    "```bash\n",
    "repairpdb_example$ ll\n",
    "\n",
    "total 498K\n",
    "-rw-r--r-- 1 guzmanfj g-guzmanfj 498K Apr 19 11:30 2oun.pdb\n",
    "lrwxr-xr-x 1 guzmanfj g-guzmanfj   62 Apr 19 20:33 rotabase.txt -> /ibex/scratch/guzmanfj/py/aroldlab/FoldX_ibex/lib/rotabase.txt\n",
    "\n",
    "repairpdb_example$ ../foldx_20221231 --command=RepairPDB --pdb=2oun.pdb\n",
    "\n",
    "repairpdb_example$ ll\n",
    "total 961K\n",
    "-rw-r--r-- 1 guzmanfj g-guzmanfj 498K Apr 19 11:30 2oun.pdb\n",
    "-rw-r--r-- 1 guzmanfj g-guzmanfj 115K Apr 19 20:43 2oun_Repair.fxout\n",
    "-rw-r--r-- 1 guzmanfj g-guzmanfj 347K Apr 19 20:43 2oun_Repair.pdb\n",
    "-rw-r--r-- 1 guzmanfj g-guzmanfj 1.4K Apr 19 20:35 Unrecognized_molecules.txt\n",
    "drwxr-xr-x 2 guzmanfj g-guzmanfj    0 Apr 19 20:35 molecules/\n",
    "lrwxr-xr-x 1 guzmanfj g-guzmanfj   62 Apr 19 20:33 rotabase.txt -> /ibex/scratch/guzmanfj/py/aroldlab/FoldX_ibex/lib/rotabase.txt\n",
    "```"
   ]
  },
  {
   "cell_type": "code",
   "execution_count": 2,
   "id": "e440970e-7853-4c10-951e-e601849a7f94",
   "metadata": {},
   "outputs": [
    {
     "name": "stdout",
     "output_type": "stream",
     "text": [
      "total 10944\n",
      "-rw-r--r--  1 guzmanfj  KAUST\\Domain Users   497K Apr 19 20:52 2oun.pdb\n",
      "-rw-r--r--  1 guzmanfj  KAUST\\Domain Users   115K Apr 19 20:52 2oun_Repair.fxout\n",
      "-rw-r--r--  1 guzmanfj  KAUST\\Domain Users   346K Apr 19 20:52 2oun_Repair.pdb\n",
      "-rw-r--r--  1 guzmanfj  KAUST\\Domain Users   1.4K Apr 19 20:52 Unrecognized_molecules.txt\n",
      "drwxr-xr-x  2 guzmanfj  KAUST\\Domain Users    64B Apr 19 20:52 \u001b[1m\u001b[36mmolecules\u001b[m\u001b[m\n",
      "-rw-r--r--  1 guzmanfj  KAUST\\Domain Users   4.4M Apr 19 20:52 rotabase.txt\n"
     ]
    }
   ],
   "source": [
    "!ls -lh ../lib/repairpdb_example/"
   ]
  },
  {
   "cell_type": "code",
   "execution_count": 3,
   "id": "2c95a7ba-9dfb-4de8-89d8-355f44d2e8e8",
   "metadata": {},
   "outputs": [
    {
     "name": "stdout",
     "output_type": "stream",
     "text": [
      "./2oun.pdb\n",
      "Starting Structure\t47.9131\t-496.828\t-105.927\t-845.41\t-44.8331\t1169.12\t-1107.69\t90.7523\t435.301\t982.474\t0\t0\t0\t28.2145\t637.102\t-13.4531\t0\t0\t-0.00598712\t-49.8065\t6.00147\t0\n",
      "Now Optimizing Residues\n",
      "H2SA447\t21.1677\t-500.873\t-111.77\t-845.352\t-45.3377\t1166.62\t-1107.6\t76.6142\t437.127\t984.095\t0\t0\t0\t24.9098\t637.183\t-13.4804\t0\t0\t-0.00598712\t-49.8065\t6.02812\t0\n",
      "META448\t21.0496\t-500.873\t-111.77\t-845.369\t-45.3377\t1166.67\t-1107.61\t76.4661\t437.128\t984.106\t0\t0\t0\t24.9098\t637.183\t-13.4804\t0\t0\t-0.00598712\t-49.8065\t6.02812\t0\n",
      "SERA449\t21.0468\t-500.873\t-111.77\t-845.368\t-45.3379\t1166.66\t-1107.61\t76.4656\t437.127\t984.106\t0\t0\t0\t24.9098\t637.182\t-13.4804\t0\t0\t-0.00598712\t-49.8065\t6.02812\t0\n",
      "ILEA450\t20.9285\t-500.873\t-111.77\t-845.365\t-45.3378\t1166.66\t-1107.61\t76.4656\t437.125\t984.106\t0\t0\t0\t24.7854\t637.182\t-13.4804\t0\t0\t-0.00598712\t-49.8065\t6.02812\t0\n",
      "THRA452\t20.898\t-500.872\t-111.77\t-845.359\t-45.3374\t1166.63\t-1107.6\t76.4572\t437.124\t984.106\t0\t0\t0\t24.7795\t637.18\t-13.4804\t0\t0\t-0.00598712\t-49.8065\t6.02812\t0\n",
      "SERA453\t20.8681\t-500.872\t-111.77\t-845.351\t-45.3374\t1166.61\t-1107.6\t76.4572\t437.11\t984.106\t0\t0\t0\t24.7795\t637.179\t-13.4804\t0\t0\t-0.00598712\t-49.8065\t6.02812\t0\n",
      "GLUA454\t20.8507\t-500.872\t-111.77\t-845.349\t-45.3358\t1166.6\t-1107.6\t76.457\t437.111\t984.106\t0\t0\t0\t24.7795\t637.158\t-13.4892\t0\t0\t-0.00598712\t-49.8065\t6.02812\t0\n"
     ]
    }
   ],
   "source": [
    "!head ../lib/repairpdb_example/2oun_Repair.fxout"
   ]
  },
  {
   "cell_type": "code",
   "execution_count": 31,
   "id": "8067f7ee-7616-46c6-8957-3fb1ff9fe063",
   "metadata": {},
   "outputs": [
    {
     "name": "stdout",
     "output_type": "stream",
     "text": [
      "ASPB757\t-217.689\t-547.719\t-198.304\t-850.652\t-38.4946\t1126.02\t-1127.15\t25.8303\t461.487\t984.299\t0\t0\t0\t16.7196\t637.794\t-21.8717\t0\t0\t-0.0166292\t-53.6239\t5.78063\t0\n",
      "ASNB758\t-220.211\t-548.271\t-198.78\t-850.646\t-38.4946\t1125.71\t-1127.15\t24.6433\t461.487\t984.299\t0\t0\t0\t16.7195\t637.798\t-21.8717\t0\t0\t-0.0166292\t-53.6239\t5.78063\t0\n",
      "SERB760\t-220.25\t-548.27\t-198.858\t-850.644\t-38.4946\t1125.7\t-1127.15\t24.6433\t461.529\t984.299\t0\t0\t0\t16.7195\t637.798\t-21.8717\t0\t0\t-0.0166292\t-53.6239\t5.78063\t0\n",
      "GLUB763\t-220.658\t-548.25\t-198.878\t-850.545\t-38.5913\t1125.27\t-1127.1\t24.6431\t461.521\t984.306\t0\t0\t0\t16.7203\t637.777\t-21.887\t0\t0\t-0.0315344\t-53.6239\t5.78063\t0\n",
      "LYSB764\t-220.665\t-548.25\t-198.885\t-850.544\t-38.5917\t1125.27\t-1127.1\t24.6435\t461.524\t984.306\t0\t0\t0\t16.7203\t637.777\t-21.887\t0\t0\t-0.0315673\t-53.6239\t5.78063\t0\n",
      "ARGB767\t-220.669\t-548.25\t-198.878\t-850.542\t-38.5919\t1125.27\t-1127.09\t24.6361\t461.521\t984.306\t0\t0\t0\t16.7203\t637.778\t-21.8886\t0\t0\t-0.0304651\t-53.6239\t5.78048\t0\n",
      "GLUB769\t-220.671\t-548.25\t-198.878\t-850.544\t-38.5909\t1125.27\t-1127.1\t24.6361\t461.522\t984.306\t0\t0\t0\t16.7205\t637.778\t-21.8886\t0\t0\t-0.0305516\t-53.6239\t5.78048\t0\n",
      "GLUB770\t-220.673\t-548.25\t-198.889\t-850.54\t-38.5898\t1125.27\t-1127.09\t24.6387\t461.521\t984.306\t0\t0\t0\t16.7205\t637.777\t-21.8897\t0\t0\t-0.030453\t-53.6239\t5.78048\t0\n",
      "THRB771\t-221.092\t-548.577\t-199.216\t-850.564\t-38.5895\t1125.27\t-1127.12\t24.6418\t461.853\t984.34\t0\t0\t0\t16.6363\t637.701\t-21.8903\t0\t0\t-0.0304874\t-53.6239\t5.78048\t0\n",
      "THRB773\t-221.169\t-548.575\t-199.215\t-850.581\t-38.5895\t1125.25\t-1127.17\t24.6421\t461.854\t984.34\t0\t0\t0\t16.6363\t637.702\t-21.8903\t0\t0\t-0.0304874\t-53.6239\t5.78048\t0\n"
     ]
    }
   ],
   "source": [
    "!tail ../lib/repairpdb_example/2oun_Repair.fxout"
   ]
  },
  {
   "attachments": {},
   "cell_type": "markdown",
   "id": "99b39446-c6da-4e81-98cd-c2238f9fc507",
   "metadata": {},
   "source": [
    "<img src=\"../lib/repairpdb_example/pictures/wt_mut.png\" style=\"height:500px\">"
   ]
  },
  {
   "attachments": {},
   "cell_type": "markdown",
   "id": "38a2056f-5a14-4167-886e-17b923ee738c",
   "metadata": {},
   "source": [
    "Some residues are in different conformations."
   ]
  },
  {
   "attachments": {},
   "cell_type": "markdown",
   "id": "5091b2d5-6892-423b-9b43-2fbc562d76ab",
   "metadata": {},
   "source": [
    "## Stability"
   ]
  },
  {
   "attachments": {},
   "cell_type": "markdown",
   "id": "7a956540-6b2d-4d85-8411-f590613eebde",
   "metadata": {},
   "source": [
    "Calculate the folding energy of the protein, in kcal/mol"
   ]
  },
  {
   "attachments": {},
   "cell_type": "markdown",
   "id": "b10c7933-5fe8-4215-8d3d-4ed69c9a1df3",
   "metadata": {},
   "source": [
    "```bash\n",
    "foldx_20221231 --command=Stability --pdb=ST.pdb\n",
    "```"
   ]
  },
  {
   "attachments": {},
   "cell_type": "markdown",
   "id": "b41a486b-48f8-4b54-aae4-821b094fab10",
   "metadata": {},
   "source": [
    "### Example with 2oun and 2oun_Repair"
   ]
  },
  {
   "cell_type": "raw",
   "id": "596dc32f-cd80-49d3-ad95-553dadbd3ce5",
   "metadata": {
    "tags": []
   },
   "source": [
    "stability_example$ ll\n",
    "total 845K\n",
    "-rw-r--r-- 1 guzmanfj g-guzmanfj 498K Apr 19 16:24 2oun.pdb\n",
    "-rw-r--r-- 1 guzmanfj g-guzmanfj 347K Apr 19 16:24 2oun_Repair.pdb\n",
    "lrwxr-xr-x 1 guzmanfj g-guzmanfj   62 Apr 19 16:25 rotabase.txt -> /ibex/scratch/guzmanfj/py/aroldlab/FoldX_ibex/lib/rotabase.txt\n",
    "\n",
    "\n",
    "stability_example$ ../foldx_20221231 --command=Stability --pdb=2oun.pdb\n",
    "   ********************************************\n",
    "   ***                                      ***\n",
    "   ***             FoldX 5 (c)              ***\n",
    "   ***                                      ***\n",
    "   ***     code by the FoldX Consortium     ***\n",
    "   ***                                      ***\n",
    "   ***     Jesper Borg, Frederic Rousseau   ***\n",
    "   ***    Joost Schymkowitz, Luis Serrano   ***\n",
    "   ***    Peter Vanhee, Erik Verschueren    ***\n",
    "   ***     Lies Baeten, Javier Delgado      ***\n",
    "   ***       and Francois Stricher          ***\n",
    "   *** and any other of the 9! permutations ***\n",
    "   ***   based on an original concept by    ***\n",
    "   ***   Raphael Guerois and Luis Serrano   ***\n",
    "   ********************************************\n",
    "\n",
    "Stability >>>\n",
    "\n",
    "1 models read: 2oun.pdb\n",
    "./2oun_0_ST.fxout\n",
    "Output Directory: ./\n",
    "Output File: 2oun_0_ST.fxout\n",
    "Configuration File: config_2oun_0_ST.cfg\n",
    "\n",
    "BackHbond       =               -496.83\n",
    "SideHbond       =               -105.93\n",
    "Energy_VdW      =               -845.41\n",
    "Electro         =               -44.83\n",
    "Energy_SolvP    =               1169.12\n",
    "Energy_SolvH    =               -1107.69\n",
    "Energy_vdwclash =               90.75\n",
    "energy_torsion  =               28.21\n",
    "backbone_vdwclash=              637.10\n",
    "Entropy_sidec   =               435.30\n",
    "Entropy_mainc   =               982.47\n",
    "water bonds     =               0.00\n",
    "helix dipole    =               -13.45\n",
    "loop_entropy    =               0.00\n",
    "cis_bond        =               0.00\n",
    "disulfide       =               0.00\n",
    "kn electrostatic=               -0.01\n",
    "partial covalent interactions = -49.81\n",
    "Energy_Ionisation =             6.00\n",
    "Entropy Complex =               0.00\n",
    "-----------------------------------------------------------\n",
    "Total          = \t\t\t\t  47.91\n",
    "\n",
    "FINISHING STABILITY ANALYSIS OPTION\n",
    "\n",
    "Your file run OK\n",
    "End time of FoldX: Tue Apr 19 21:02:52 2022\n",
    "Total time spend: 4.43 seconds.\n",
    "\n",
    "\n",
    "stability_example$ ll\n",
    "total 847K\n",
    "-rw-r--r-- 1 guzmanfj g-guzmanfj 498K Apr 19 16:24 2oun.pdb\n",
    "-rw-r--r-- 1 guzmanfj g-guzmanfj  165 Apr 19 21:02 2oun_0_ST.fxout\n",
    "-rw-r--r-- 1 guzmanfj g-guzmanfj 1.4K Apr 19 21:02 Unrecognized_molecules.txt\n",
    "drwxr-xr-x 2 guzmanfj g-guzmanfj    0 Apr 19 21:02 molecules/\n",
    "lrwxr-xr-x 1 guzmanfj g-guzmanfj   62 Apr 19 16:25 rotabase.txt -> /ibex/scratch/guzmanfj/py/aroldlab/FoldX_ibex/lib/rotabase.txt\n",
    "\n",
    "\n",
    "stability_example$ cp ../repairpdb_example/2oun_Repair.pdb ./\n",
    "\n",
    "stability_example$ ../foldx_20221231 --command=Stability --pdb=2oun_Repair.pdb\n",
    "   ********************************************\n",
    "   ***                                      ***\n",
    "   ***             FoldX 5 (c)              ***\n",
    "   ***                                      ***\n",
    "   ***     code by the FoldX Consortium     ***\n",
    "   ***                                      ***\n",
    "   ***     Jesper Borg, Frederic Rousseau   ***\n",
    "   ***    Joost Schymkowitz, Luis Serrano   ***\n",
    "   ***    Peter Vanhee, Erik Verschueren    ***\n",
    "   ***     Lies Baeten, Javier Delgado      ***\n",
    "   ***       and Francois Stricher          ***\n",
    "   *** and any other of the 9! permutations ***\n",
    "   ***   based on an original concept by    ***\n",
    "   ***   Raphael Guerois and Luis Serrano   ***\n",
    "   ********************************************\n",
    "\n",
    "Stability >>>\n",
    "\n",
    "1 models read: 2oun_Repair.pdb\n",
    "./2oun_Repair_0_ST.fxout\n",
    "Output Directory: ./\n",
    "Output File: 2oun_Repair_0_ST.fxout\n",
    "Configuration File: config_2oun_Repair_0_ST.cfg\n",
    "\n",
    "BackHbond       =               -548.54\n",
    "SideHbond       =               -201.34\n",
    "Energy_VdW      =               -850.56\n",
    "Electro         =               -38.45\n",
    "Energy_SolvP    =               1126.53\n",
    "Energy_SolvH    =               -1127.15\n",
    "Energy_vdwclash =               25.93\n",
    "energy_torsion  =               16.49\n",
    "backbone_vdwclash=              637.67\n",
    "Entropy_sidec   =               462.29\n",
    "Entropy_mainc   =               984.50\n",
    "water bonds     =               0.00\n",
    "helix dipole    =               -22.05\n",
    "loop_entropy    =               0.00\n",
    "cis_bond        =               0.00\n",
    "disulfide       =               0.00\n",
    "kn electrostatic=               -0.03\n",
    "partial covalent interactions = -53.62\n",
    "Energy_Ionisation =             6.45\n",
    "Entropy Complex =               0.00\n",
    "-----------------------------------------------------------\n",
    "Total          = \t\t\t\t  -219.57\n",
    "\n",
    "FINISHING STABILITY ANALYSIS OPTION\n",
    "\n",
    "Your file run OK\n",
    "End time of FoldX: Tue Apr 19 21:06:00 2022\n",
    "Total time spend: 4.39 seconds."
   ]
  },
  {
   "cell_type": "code",
   "execution_count": 4,
   "id": "c488cd34-31f3-4d98-82d0-d98f9c6bd6e3",
   "metadata": {},
   "outputs": [
    {
     "name": "stdout",
     "output_type": "stream",
     "text": [
      "total 10728\n",
      "-rw-r--r--  1 guzmanfj  KAUST\\Domain Users   497K Apr 19 21:06 2oun.pdb\n",
      "-rw-r--r--  1 guzmanfj  KAUST\\Domain Users   165B Apr 19 21:06 2oun_0_ST.fxout\n",
      "-rw-r--r--  1 guzmanfj  KAUST\\Domain Users   346K Apr 19 21:06 2oun_Repair.pdb\n",
      "-rw-r--r--  1 guzmanfj  KAUST\\Domain Users   171B Apr 19 21:06 2oun_Repair_0_ST.fxout\n",
      "-rw-r--r--  1 guzmanfj  KAUST\\Domain Users   1.4K Apr 19 21:06 Unrecognized_molecules.txt\n",
      "drwxr-xr-x  2 guzmanfj  KAUST\\Domain Users    64B Apr 19 21:06 \u001b[1m\u001b[36mmolecules\u001b[m\u001b[m\n",
      "-rw-r--r--  1 guzmanfj  KAUST\\Domain Users   4.4M Apr 19 21:06 rotabase.txt\n"
     ]
    }
   ],
   "source": [
    "!ls -lh ../lib/stability_example/"
   ]
  },
  {
   "cell_type": "code",
   "execution_count": 6,
   "id": "bf927dba-3035-4d20-9aa3-6ec97c3487e1",
   "metadata": {},
   "outputs": [
    {
     "name": "stdout",
     "output_type": "stream",
     "text": [
      "./2oun.pdb\t47.9131\t-496.828\t-105.927\t-845.41\t-44.8331\t1169.12\t-1107.69\t90.7523\t435.301\t982.474\t0\t0\t0\t28.2145\t637.102\t-13.4531\t0\t0\t-0.00598712\t-49.8065\t6.00147\t0\t656\n"
     ]
    }
   ],
   "source": [
    "!cat ../lib/stability_example/2oun_0_ST.fxout"
   ]
  },
  {
   "cell_type": "code",
   "execution_count": 7,
   "id": "ad99bc76-7795-4a64-b3de-4c3c026db017",
   "metadata": {},
   "outputs": [
    {
     "name": "stdout",
     "output_type": "stream",
     "text": [
      "./2oun_Repair.pdb\t-219.569\t-548.545\t-201.342\t-850.561\t-38.448\t1126.53\t-1127.15\t25.9336\t462.29\t984.497\t0\t0\t0\t16.4871\t637.667\t-22.0548\t0\t0\t-0.0305622\t-53.6212\t6.44598\t0\t656\n"
     ]
    }
   ],
   "source": [
    "!cat ../lib/stability_example/2oun_Repair_0_ST.fxout"
   ]
  },
  {
   "attachments": {},
   "cell_type": "markdown",
   "id": "e830eb8c-b827-4d12-99c0-32912fe15ace",
   "metadata": {},
   "source": [
    "The total energy changed from **47.9131** to **-219.569** after the repair"
   ]
  },
  {
   "cell_type": "code",
   "execution_count": 32,
   "id": "35bb7f5d-497d-4740-9ab5-ffe0f361127a",
   "metadata": {},
   "outputs": [],
   "source": [
    "import pandas as pd"
   ]
  },
  {
   "cell_type": "code",
   "execution_count": 18,
   "id": "f31fab2c-8fdf-47b5-b92b-5e780fba8a64",
   "metadata": {},
   "outputs": [],
   "source": [
    "columns = [\n",
    "    \"Pdb\",\n",
    "    \"Total Energy\",\n",
    "    \"Backbone Hbond\",\n",
    "    \"Sidechain Hbond\",\n",
    "    \"Van der Waals\",\n",
    "    \"Electrostatics\",\n",
    "    \"Solvation Polar\",\n",
    "    \"Solvation Hydrophobic\",\n",
    "    \"Van der Waals clashes\",\n",
    "    \"Entropy Side Chain\",\n",
    "    \"Entropy Main Chain\",\n",
    "    \"Sloop Entropy\",\n",
    "    \"Mloop Entropy\",\n",
    "    \"Cis Bond\",\n",
    "    \"Torsional Clash\",\n",
    "    \"Backbone Clash\",\n",
    "    \"Helix Dipole\",\n",
    "    \"Water Bridge\",\n",
    "    \"Disulfide\",\n",
    "    \"Electrostatic Kon\",\n",
    "    \"Partial Covalent Bonds\",\n",
    "    \"Energy Ionisation\",\n",
    "    \"Entropy Complex\",\n",
    "    \"Residue Number\"\n",
    "]"
   ]
  },
  {
   "cell_type": "code",
   "execution_count": 19,
   "id": "c98624bb-1f7f-47e5-a846-9caf7ce7c4d9",
   "metadata": {},
   "outputs": [],
   "source": [
    "wt = pd.read_csv('../lib/stability_example/2oun_0_ST.fxout', sep='\\t', header=None, names=columns)\n",
    "repaired = pd.read_csv('../lib/stability_example/2oun_Repair_0_ST.fxout', sep='\\t', header=None, names=columns)\n",
    "comparison = pd.concat([wt,repaired]).T.drop(['Pdb','Residue Number']).astype('float64')\n",
    "comparison.columns = ['Original', 'Repaired']"
   ]
  },
  {
   "cell_type": "code",
   "execution_count": 20,
   "id": "a874ac8d-174d-425a-9992-ba295f04b280",
   "metadata": {},
   "outputs": [],
   "source": [
    "comparison[\"diff\"] = (comparison.Repaired - comparison.Original)"
   ]
  },
  {
   "cell_type": "code",
   "execution_count": 23,
   "id": "e2d5afe4-0b53-4f90-bfec-6b97f7602c41",
   "metadata": {},
   "outputs": [],
   "source": [
    "import seaborn as sns\n",
    "cm = sns.color_palette(\"coolwarm\", as_cmap=True)"
   ]
  },
  {
   "cell_type": "code",
   "execution_count": 24,
   "id": "db704875-658e-42bc-a4d0-46910b908057",
   "metadata": {},
   "outputs": [
    {
     "data": {
      "text/html": [
       "<style type=\"text/css\">\n",
       "#T_7d30c td:hover {\n",
       "  background-color: #ffffb3;\n",
       "}\n",
       "#T_7d30c_row1_col2, #T_7d30c_row2_col2, #T_7d30c_row7_col2 {\n",
       "  background-color: #3b4cc0;\n",
       "  color: #f1f1f1;\n",
       "}\n",
       "#T_7d30c_row3_col2 {\n",
       "  background-color: #cedaeb;\n",
       "  color: #000000;\n",
       "}\n",
       "#T_7d30c_row4_col2 {\n",
       "  background-color: #ecd3c5;\n",
       "  color: #000000;\n",
       "}\n",
       "#T_7d30c_row5_col2 {\n",
       "  background-color: #506bda;\n",
       "  color: #f1f1f1;\n",
       "}\n",
       "#T_7d30c_row6_col2 {\n",
       "  background-color: #a1c0ff;\n",
       "  color: #000000;\n",
       "}\n",
       "#T_7d30c_row8_col2 {\n",
       "  background-color: #f29072;\n",
       "  color: #f1f1f1;\n",
       "}\n",
       "#T_7d30c_row9_col2 {\n",
       "  background-color: #e2dad5;\n",
       "  color: #000000;\n",
       "}\n",
       "#T_7d30c_row10_col2, #T_7d30c_row11_col2, #T_7d30c_row12_col2, #T_7d30c_row16_col2, #T_7d30c_row17_col2, #T_7d30c_row21_col2 {\n",
       "  background-color: #dddcdc;\n",
       "  color: #000000;\n",
       "}\n",
       "#T_7d30c_row13_col2 {\n",
       "  background-color: #bad0f8;\n",
       "  color: #000000;\n",
       "}\n",
       "#T_7d30c_row14_col2, #T_7d30c_row20_col2 {\n",
       "  background-color: #dedcdb;\n",
       "  color: #000000;\n",
       "}\n",
       "#T_7d30c_row15_col2 {\n",
       "  background-color: #c4d5f3;\n",
       "  color: #000000;\n",
       "}\n",
       "#T_7d30c_row18_col2 {\n",
       "  background-color: #dcdddd;\n",
       "  color: #000000;\n",
       "}\n",
       "#T_7d30c_row19_col2 {\n",
       "  background-color: #d3dbe7;\n",
       "  color: #000000;\n",
       "}\n",
       "</style>\n",
       "<table id=\"T_7d30c\">\n",
       "  <thead>\n",
       "    <tr>\n",
       "      <th class=\"blank level0\" >&nbsp;</th>\n",
       "      <th id=\"T_7d30c_level0_col0\" class=\"col_heading level0 col0\" >Original</th>\n",
       "      <th id=\"T_7d30c_level0_col1\" class=\"col_heading level0 col1\" >Repaired</th>\n",
       "      <th id=\"T_7d30c_level0_col2\" class=\"col_heading level0 col2\" >diff</th>\n",
       "    </tr>\n",
       "  </thead>\n",
       "  <tbody>\n",
       "    <tr>\n",
       "      <th id=\"T_7d30c_level0_row0\" class=\"row_heading level0 row0\" >Total Energy</th>\n",
       "      <td id=\"T_7d30c_row0_col0\" class=\"data row0 col0\" >47.913</td>\n",
       "      <td id=\"T_7d30c_row0_col1\" class=\"data row0 col1\" >-219.569</td>\n",
       "      <td id=\"T_7d30c_row0_col2\" class=\"data row0 col2\" >-267.482</td>\n",
       "    </tr>\n",
       "    <tr>\n",
       "      <th id=\"T_7d30c_level0_row1\" class=\"row_heading level0 row1\" >Backbone Hbond</th>\n",
       "      <td id=\"T_7d30c_row1_col0\" class=\"data row1 col0\" >-496.828</td>\n",
       "      <td id=\"T_7d30c_row1_col1\" class=\"data row1 col1\" >-548.545</td>\n",
       "      <td id=\"T_7d30c_row1_col2\" class=\"data row1 col2\" >-51.717</td>\n",
       "    </tr>\n",
       "    <tr>\n",
       "      <th id=\"T_7d30c_level0_row2\" class=\"row_heading level0 row2\" >Sidechain Hbond</th>\n",
       "      <td id=\"T_7d30c_row2_col0\" class=\"data row2 col0\" >-105.927</td>\n",
       "      <td id=\"T_7d30c_row2_col1\" class=\"data row2 col1\" >-201.342</td>\n",
       "      <td id=\"T_7d30c_row2_col2\" class=\"data row2 col2\" >-95.415</td>\n",
       "    </tr>\n",
       "    <tr>\n",
       "      <th id=\"T_7d30c_level0_row3\" class=\"row_heading level0 row3\" >Van der Waals</th>\n",
       "      <td id=\"T_7d30c_row3_col0\" class=\"data row3 col0\" >-845.410</td>\n",
       "      <td id=\"T_7d30c_row3_col1\" class=\"data row3 col1\" >-850.561</td>\n",
       "      <td id=\"T_7d30c_row3_col2\" class=\"data row3 col2\" >-5.151</td>\n",
       "    </tr>\n",
       "    <tr>\n",
       "      <th id=\"T_7d30c_level0_row4\" class=\"row_heading level0 row4\" >Electrostatics</th>\n",
       "      <td id=\"T_7d30c_row4_col0\" class=\"data row4 col0\" >-44.833</td>\n",
       "      <td id=\"T_7d30c_row4_col1\" class=\"data row4 col1\" >-38.448</td>\n",
       "      <td id=\"T_7d30c_row4_col2\" class=\"data row4 col2\" >6.385</td>\n",
       "    </tr>\n",
       "    <tr>\n",
       "      <th id=\"T_7d30c_level0_row5\" class=\"row_heading level0 row5\" >Solvation Polar</th>\n",
       "      <td id=\"T_7d30c_row5_col0\" class=\"data row5 col0\" >1169.120</td>\n",
       "      <td id=\"T_7d30c_row5_col1\" class=\"data row5 col1\" >1126.530</td>\n",
       "      <td id=\"T_7d30c_row5_col2\" class=\"data row5 col2\" >-42.590</td>\n",
       "    </tr>\n",
       "    <tr>\n",
       "      <th id=\"T_7d30c_level0_row6\" class=\"row_heading level0 row6\" >Solvation Hydrophobic</th>\n",
       "      <td id=\"T_7d30c_row6_col0\" class=\"data row6 col0\" >-1107.690</td>\n",
       "      <td id=\"T_7d30c_row6_col1\" class=\"data row6 col1\" >-1127.150</td>\n",
       "      <td id=\"T_7d30c_row6_col2\" class=\"data row6 col2\" >-19.460</td>\n",
       "    </tr>\n",
       "    <tr>\n",
       "      <th id=\"T_7d30c_level0_row7\" class=\"row_heading level0 row7\" >Van der Waals clashes</th>\n",
       "      <td id=\"T_7d30c_row7_col0\" class=\"data row7 col0\" >90.752</td>\n",
       "      <td id=\"T_7d30c_row7_col1\" class=\"data row7 col1\" >25.934</td>\n",
       "      <td id=\"T_7d30c_row7_col2\" class=\"data row7 col2\" >-64.819</td>\n",
       "    </tr>\n",
       "    <tr>\n",
       "      <th id=\"T_7d30c_level0_row8\" class=\"row_heading level0 row8\" >Entropy Side Chain</th>\n",
       "      <td id=\"T_7d30c_row8_col0\" class=\"data row8 col0\" >435.301</td>\n",
       "      <td id=\"T_7d30c_row8_col1\" class=\"data row8 col1\" >462.290</td>\n",
       "      <td id=\"T_7d30c_row8_col2\" class=\"data row8 col2\" >26.989</td>\n",
       "    </tr>\n",
       "    <tr>\n",
       "      <th id=\"T_7d30c_level0_row9\" class=\"row_heading level0 row9\" >Entropy Main Chain</th>\n",
       "      <td id=\"T_7d30c_row9_col0\" class=\"data row9 col0\" >982.474</td>\n",
       "      <td id=\"T_7d30c_row9_col1\" class=\"data row9 col1\" >984.497</td>\n",
       "      <td id=\"T_7d30c_row9_col2\" class=\"data row9 col2\" >2.023</td>\n",
       "    </tr>\n",
       "    <tr>\n",
       "      <th id=\"T_7d30c_level0_row10\" class=\"row_heading level0 row10\" >Sloop Entropy</th>\n",
       "      <td id=\"T_7d30c_row10_col0\" class=\"data row10 col0\" >0.000</td>\n",
       "      <td id=\"T_7d30c_row10_col1\" class=\"data row10 col1\" >0.000</td>\n",
       "      <td id=\"T_7d30c_row10_col2\" class=\"data row10 col2\" >0.000</td>\n",
       "    </tr>\n",
       "    <tr>\n",
       "      <th id=\"T_7d30c_level0_row11\" class=\"row_heading level0 row11\" >Mloop Entropy</th>\n",
       "      <td id=\"T_7d30c_row11_col0\" class=\"data row11 col0\" >0.000</td>\n",
       "      <td id=\"T_7d30c_row11_col1\" class=\"data row11 col1\" >0.000</td>\n",
       "      <td id=\"T_7d30c_row11_col2\" class=\"data row11 col2\" >0.000</td>\n",
       "    </tr>\n",
       "    <tr>\n",
       "      <th id=\"T_7d30c_level0_row12\" class=\"row_heading level0 row12\" >Cis Bond</th>\n",
       "      <td id=\"T_7d30c_row12_col0\" class=\"data row12 col0\" >0.000</td>\n",
       "      <td id=\"T_7d30c_row12_col1\" class=\"data row12 col1\" >0.000</td>\n",
       "      <td id=\"T_7d30c_row12_col2\" class=\"data row12 col2\" >0.000</td>\n",
       "    </tr>\n",
       "    <tr>\n",
       "      <th id=\"T_7d30c_level0_row13\" class=\"row_heading level0 row13\" >Torsional Clash</th>\n",
       "      <td id=\"T_7d30c_row13_col0\" class=\"data row13 col0\" >28.215</td>\n",
       "      <td id=\"T_7d30c_row13_col1\" class=\"data row13 col1\" >16.487</td>\n",
       "      <td id=\"T_7d30c_row13_col2\" class=\"data row13 col2\" >-11.727</td>\n",
       "    </tr>\n",
       "    <tr>\n",
       "      <th id=\"T_7d30c_level0_row14\" class=\"row_heading level0 row14\" >Backbone Clash</th>\n",
       "      <td id=\"T_7d30c_row14_col0\" class=\"data row14 col0\" >637.102</td>\n",
       "      <td id=\"T_7d30c_row14_col1\" class=\"data row14 col1\" >637.667</td>\n",
       "      <td id=\"T_7d30c_row14_col2\" class=\"data row14 col2\" >0.565</td>\n",
       "    </tr>\n",
       "    <tr>\n",
       "      <th id=\"T_7d30c_level0_row15\" class=\"row_heading level0 row15\" >Helix Dipole</th>\n",
       "      <td id=\"T_7d30c_row15_col0\" class=\"data row15 col0\" >-13.453</td>\n",
       "      <td id=\"T_7d30c_row15_col1\" class=\"data row15 col1\" >-22.055</td>\n",
       "      <td id=\"T_7d30c_row15_col2\" class=\"data row15 col2\" >-8.602</td>\n",
       "    </tr>\n",
       "    <tr>\n",
       "      <th id=\"T_7d30c_level0_row16\" class=\"row_heading level0 row16\" >Water Bridge</th>\n",
       "      <td id=\"T_7d30c_row16_col0\" class=\"data row16 col0\" >0.000</td>\n",
       "      <td id=\"T_7d30c_row16_col1\" class=\"data row16 col1\" >0.000</td>\n",
       "      <td id=\"T_7d30c_row16_col2\" class=\"data row16 col2\" >0.000</td>\n",
       "    </tr>\n",
       "    <tr>\n",
       "      <th id=\"T_7d30c_level0_row17\" class=\"row_heading level0 row17\" >Disulfide</th>\n",
       "      <td id=\"T_7d30c_row17_col0\" class=\"data row17 col0\" >0.000</td>\n",
       "      <td id=\"T_7d30c_row17_col1\" class=\"data row17 col1\" >0.000</td>\n",
       "      <td id=\"T_7d30c_row17_col2\" class=\"data row17 col2\" >0.000</td>\n",
       "    </tr>\n",
       "    <tr>\n",
       "      <th id=\"T_7d30c_level0_row18\" class=\"row_heading level0 row18\" >Electrostatic Kon</th>\n",
       "      <td id=\"T_7d30c_row18_col0\" class=\"data row18 col0\" >-0.006</td>\n",
       "      <td id=\"T_7d30c_row18_col1\" class=\"data row18 col1\" >-0.031</td>\n",
       "      <td id=\"T_7d30c_row18_col2\" class=\"data row18 col2\" >-0.025</td>\n",
       "    </tr>\n",
       "    <tr>\n",
       "      <th id=\"T_7d30c_level0_row19\" class=\"row_heading level0 row19\" >Partial Covalent Bonds</th>\n",
       "      <td id=\"T_7d30c_row19_col0\" class=\"data row19 col0\" >-49.806</td>\n",
       "      <td id=\"T_7d30c_row19_col1\" class=\"data row19 col1\" >-53.621</td>\n",
       "      <td id=\"T_7d30c_row19_col2\" class=\"data row19 col2\" >-3.815</td>\n",
       "    </tr>\n",
       "    <tr>\n",
       "      <th id=\"T_7d30c_level0_row20\" class=\"row_heading level0 row20\" >Energy Ionisation</th>\n",
       "      <td id=\"T_7d30c_row20_col0\" class=\"data row20 col0\" >6.001</td>\n",
       "      <td id=\"T_7d30c_row20_col1\" class=\"data row20 col1\" >6.446</td>\n",
       "      <td id=\"T_7d30c_row20_col2\" class=\"data row20 col2\" >0.445</td>\n",
       "    </tr>\n",
       "    <tr>\n",
       "      <th id=\"T_7d30c_level0_row21\" class=\"row_heading level0 row21\" >Entropy Complex</th>\n",
       "      <td id=\"T_7d30c_row21_col0\" class=\"data row21 col0\" >0.000</td>\n",
       "      <td id=\"T_7d30c_row21_col1\" class=\"data row21 col1\" >0.000</td>\n",
       "      <td id=\"T_7d30c_row21_col2\" class=\"data row21 col2\" >0.000</td>\n",
       "    </tr>\n",
       "  </tbody>\n",
       "</table>\n"
      ],
      "text/plain": [
       "<pandas.io.formats.style.Styler at 0x125e1b9a0>"
      ]
     },
     "execution_count": 24,
     "metadata": {},
     "output_type": "execute_result"
    }
   ],
   "source": [
    "cell_hover = {  # for row hover use <tr> instead of <td>\n",
    "    'selector': 'td:hover',\n",
    "    'props': [('background-color', '#ffffb3')]\n",
    "}\n",
    "\n",
    "def make_pretty(styler):\n",
    "    styler.format(precision=3)\n",
    "    styler.set_table_styles([cell_hover])\n",
    "    styler.background_gradient(axis=0, cmap=cm, subset=pd.IndexSlice[\"Backbone Hbond\":,\"diff\"], vmin=-50, vmax=50)\n",
    "    return styler\n",
    "\n",
    "comparison.style.pipe(make_pretty)"
   ]
  },
  {
   "attachments": {},
   "cell_type": "markdown",
   "id": "bed80c05-eaca-4efd-889a-7a02567dbe3e",
   "metadata": {},
   "source": [
    "## BuildModel"
   ]
  },
  {
   "attachments": {},
   "cell_type": "markdown",
   "id": "256aacf2-75d0-4c44-ad4a-743277c0dbc2",
   "metadata": {},
   "source": [
    "```bash\n",
    "foldx_20221231 --command=BuildModel --pdb=BM.pdb --mutant-file=individual_list.txt\n",
    "```"
   ]
  },
  {
   "attachments": {},
   "cell_type": "markdown",
   "id": "0d3caf6e-23c8-41d7-bfb3-1209794e18c8",
   "metadata": {},
   "source": [
    "The output files are:\n",
    "\n",
    "- `Average_PDB_BM.fxout` -> average energy of the different runs\n",
    "- `Dif_PDB_BM.fxout` -> energy difference between reference WT and the corresponding mutant\n",
    "- `Raw_PDB_BM.fxout` -> full energy decomposition for the WT references and the mutants\n",
    "- `PdbList_PDB_BM.fxout` -> names of all the mutants and the corresponding WT references"
   ]
  },
  {
   "attachments": {},
   "cell_type": "markdown",
   "id": "0e2cf9b2-737b-411f-8297-abcb110227c3",
   "metadata": {},
   "source": [
    "### Example 1 with 2oun"
   ]
  },
  {
   "cell_type": "code",
   "execution_count": 1,
   "id": "be9681bc-615d-45a5-aacc-f37079d733a8",
   "metadata": {},
   "outputs": [
    {
     "name": "stdout",
     "output_type": "stream",
     "text": [
      "LA675P;\n"
     ]
    }
   ],
   "source": [
    "!cat ../lib/buildmodel_example/individual_list.txt"
   ]
  },
  {
   "cell_type": "code",
   "execution_count": 3,
   "id": "2336c660-9740-4703-a8a9-87ce23c61a07",
   "metadata": {},
   "outputs": [],
   "source": [
    "import re"
   ]
  },
  {
   "cell_type": "code",
   "execution_count": 6,
   "id": "3a979ee0-2e20-4cb4-a990-3032a2c14590",
   "metadata": {},
   "outputs": [],
   "source": [
    "mutations = [['A4G', 'F89K', 'I120R'],['H35L']]\n",
    "chains = ['A', 'B']\n",
    "\n",
    "assert len(mutations) == len(chains)\n",
    "\n",
    "formatted_mutations = []\n",
    "\n",
    "for i, c in enumerate(chains):\n",
    "    imuts = mutations[i]\n",
    "    formatted_mutations += [m[0]+c+m[1:] for m in imuts]"
   ]
  },
  {
   "cell_type": "code",
   "execution_count": 7,
   "id": "568e5b4e-a65c-4287-b97b-f24b86365683",
   "metadata": {},
   "outputs": [
    {
     "data": {
      "text/plain": [
       "['AA4G', 'FA89K', 'IA120R', 'HB35L']"
      ]
     },
     "execution_count": 7,
     "metadata": {},
     "output_type": "execute_result"
    }
   ],
   "source": [
    "formatted_mutations"
   ]
  },
  {
   "cell_type": "code",
   "execution_count": 10,
   "id": "c34f3e65-2db1-4441-b6a7-1ce4161211b6",
   "metadata": {},
   "outputs": [
    {
     "data": {
      "text/plain": [
       "'AA4G,FA89K,IA120R,HB35L;'"
      ]
     },
     "execution_count": 10,
     "metadata": {},
     "output_type": "execute_result"
    }
   ],
   "source": [
    "','.join(formatted_mutations) + ';'"
   ]
  },
  {
   "cell_type": "raw",
   "id": "649bb59e-9e13-4860-8684-70ad83f9c828",
   "metadata": {
    "tags": []
   },
   "source": [
    "buildmodel_example$ ll\n",
    "total 499K\n",
    "-rw-r--r-- 1 guzmanfj g-guzmanfj 498K Apr 19 14:44 2oun.pdb\n",
    "-rw-r--r-- 1 guzmanfj g-guzmanfj    8 Apr 19 14:46 individual_list.txt\n",
    "lrwxr-xr-x 1 guzmanfj g-guzmanfj   62 Apr 19 22:24 rotabase.txt -> /ibex/scratch/guzmanfj/py/aroldlab/FoldX_ibex/lib/rotabase.txt\n",
    "\n",
    "\n",
    "buildmodel_example$ ../foldx_20221231 --command=BuildModel --pdb=2oun.pdb --mutant-file=individual_list.txt\n",
    "   ********************************************\n",
    "   ***                                      ***\n",
    "   ***             FoldX 5 (c)              ***\n",
    "   ***                                      ***\n",
    "   ***     code by the FoldX Consortium     ***\n",
    "   ***                                      ***\n",
    "   ***     Jesper Borg, Frederic Rousseau   ***\n",
    "   ***    Joost Schymkowitz, Luis Serrano   ***\n",
    "   ***    Peter Vanhee, Erik Verschueren    ***\n",
    "   ***     Lies Baeten, Javier Delgado      ***\n",
    "   ***       and Francois Stricher          ***\n",
    "   *** and any other of the 9! permutations ***\n",
    "   ***   based on an original concept by    ***\n",
    "   ***   Raphael Guerois and Luis Serrano   ***\n",
    "   ********************************************\n",
    "\n",
    "1 models read: 2oun.pdb\n",
    "Output: ./2oun.log\n",
    "\n",
    "BackHbond       =               -496.83\n",
    "SideHbond       =               -105.93\n",
    "Energy_VdW      =               -845.41\n",
    "Electro         =               -44.83\n",
    "Energy_SolvP    =               1169.12\n",
    "Energy_SolvH    =               -1107.69\n",
    "Energy_vdwclash =               90.75\n",
    "energy_torsion  =               28.21\n",
    "backbone_vdwclash=              637.10\n",
    "Entropy_sidec   =               435.30\n",
    "Entropy_mainc   =               982.47\n",
    "water bonds     =               0.00\n",
    "helix dipole    =               -13.45\n",
    "loop_entropy    =               0.00\n",
    "cis_bond        =               0.00\n",
    "disulfide       =               0.00\n",
    "kn electrostatic=               -0.01\n",
    "partial covalent interactions = -49.81\n",
    "Energy_Ionisation =             6.00\n",
    "Entropy Complex =               0.00\n",
    "-----------------------------------------------------------\n",
    "Total          = \t\t\t\t  47.91\n",
    "\n",
    "Starting BuildModel\n",
    "Reading LA675P;\n",
    "Residue to Mutate LEUA675 has residue index 228\n",
    "Mutating residue = LEUA675 into PRO\n",
    "Your file run OK\n",
    "End time of FoldX: Tue Apr 19 22:24:59 2022\n",
    "Total time spend: 8.42 seconds.\n",
    "validated file \"2oun_1.pdb\" => successfully finished\n",
    "Cleaning BuildModel...DONE\n",
    "\n",
    "\n",
    "buildmodel_example$ ll\n",
    "total 1.2M\n",
    "-rw-r--r-- 1 guzmanfj g-guzmanfj 498K Apr 19 14:44 2oun.pdb\n",
    "-rw-r--r-- 1 guzmanfj g-guzmanfj 347K Apr 19 22:24 2oun_1.pdb\n",
    "-rw-r--r-- 1 guzmanfj g-guzmanfj  749 Apr 19 22:24 Average_2oun.fxout\n",
    "-rw-r--r-- 1 guzmanfj g-guzmanfj  748 Apr 19 22:24 Dif_2oun.fxout\n",
    "-rw-r--r-- 1 guzmanfj g-guzmanfj   25 Apr 19 22:24 PdbList_2oun.fxout\n",
    "-rw-r--r-- 1 guzmanfj g-guzmanfj  907 Apr 19 22:24 Raw_2oun.fxout\n",
    "-rw-r--r-- 1 guzmanfj g-guzmanfj  701 Apr 19 22:24 Unrecognized_molecules.txt\n",
    "-rw-r--r-- 1 guzmanfj g-guzmanfj 347K Apr 19 22:24 WT_2oun_1.pdb\n",
    "-rw-r--r-- 1 guzmanfj g-guzmanfj    8 Apr 19 14:46 individual_list.txt\n",
    "drwxr-xr-x 2 guzmanfj g-guzmanfj    0 Apr 19 22:24 molecules/\n",
    "lrwxr-xr-x 1 guzmanfj g-guzmanfj   62 Apr 19 22:24 rotabase.txt -> /ibex/scratch/guzmanfj/py/aroldlab/FoldX_ibex/lib/rotabase.txt"
   ]
  },
  {
   "attachments": {},
   "cell_type": "markdown",
   "id": "64c0d493-1ebb-4c05-bba4-ba978a417dad",
   "metadata": {},
   "source": [
    "2oun WT vs mutant L675P mutant"
   ]
  },
  {
   "attachments": {},
   "cell_type": "markdown",
   "id": "3422b642-be99-4a2e-8467-b47331bdec05",
   "metadata": {},
   "source": [
    "<img src=\"../lib/buildmodel_example/pictures/WT_mutant.png\" style=\"height:500px\">"
   ]
  },
  {
   "attachments": {},
   "cell_type": "markdown",
   "id": "1c1fb955-5664-4a5f-acfe-8a47bb986be5",
   "metadata": {},
   "source": [
    "It changes some of the residues in the vicinity of the mutation as well."
   ]
  },
  {
   "cell_type": "code",
   "execution_count": 22,
   "id": "f1f8705a-f382-493f-b51b-005ab16d128c",
   "metadata": {},
   "outputs": [
    {
     "name": "stdout",
     "output_type": "stream",
     "text": [
      "2oun.pdb                   Unrecognized_molecules.txt\n",
      "2oun_1.pdb                 WT_2oun_1.pdb\n",
      "Average_2oun.fxout         individual_list.txt\n",
      "Dif_2oun.fxout             \u001b[1m\u001b[36mmolecules\u001b[m\u001b[m\n",
      "PdbList_2oun.fxout         \u001b[1m\u001b[36mpictures\u001b[m\u001b[m\n",
      "Raw_2oun.fxout             rotabase.txt\n"
     ]
    }
   ],
   "source": [
    "!ls ../lib/buildmodel_example"
   ]
  },
  {
   "cell_type": "code",
   "execution_count": 14,
   "id": "d0e574dd-4ecc-463d-bb98-9b40bfd42fe5",
   "metadata": {},
   "outputs": [
    {
     "name": "stdout",
     "output_type": "stream",
     "text": [
      "     1\tFoldX 5 (2011)\n",
      "     2\tby the FoldX Consortium \n",
      "     3\tJesper Borg, Frederic Rousseau, Joost Schymkowitz,\n",
      "     4\tLuis Serrano and Francois Stricher\n",
      "     5\t------------------------------------------------------\n",
      "     6\t\n",
      "     7\tPDB file analysed: batch\n",
      "     8\tOutput type: BuildModel\n",
      "     9\tPdb\ttotal energy\tBackbone Hbond\tSidechain Hbond\tVan der Waals\tElectrostatics\tSolvation Polar\tSolvation Hydrophobic\tVan der Waals clashes\tentropy sidechain\tentropy mainchain\tsloop_entropy\tmloop_entropy\tcis_bond\ttorsional clash\tbackbone clash\thelix dipole\twater bridge\tdisulfide\telectrostatic kon\tpartial covalent bonds\tenergy Ionisation\tEntropy Complex\n",
      "    10\t2oun_1.pdb\t5.00565\t1.10217\t-0.00463496\t0.863781\t-0.0426811\t-0.994326\t1.61194\t2.95254\t-0.556787\t0.07456\t0\t0\t0\t-0.00092069\t-2.36389\t0\t0\t0\t-8.67362e-19\t3.31113e-12\t0\t0\n"
     ]
    }
   ],
   "source": [
    "!cat -n ../lib/buildmodel_example/Dif_2oun.fxout"
   ]
  },
  {
   "cell_type": "code",
   "execution_count": 140,
   "id": "21fd55e6-b46c-447e-930f-d36e56792d8f",
   "metadata": {},
   "outputs": [
    {
     "name": "stdout",
     "output_type": "stream",
     "text": [
      "     1\tFoldX 5 (2011)\n",
      "     2\tby the FoldX Consortium \n",
      "     3\tJesper Borg, Frederic Rousseau, Joost Schymkowitz,\n",
      "     4\tLuis Serrano and Francois Stricher\n",
      "     5\t------------------------------------------------------\n",
      "     6\t\n",
      "     7\tPDB file analysed: batch\n",
      "     8\tOutput type: BuildModel\n",
      "     9\tPdb\ttotal energy\tBackbone Hbond\tSidechain Hbond\tVan der Waals\tElectrostatics\tSolvation Polar\tSolvation Hydrophobic\tVan der Waals clashes\tentropy sidechain\tentropy mainchain\tsloop_entropy\tmloop_entropy\tcis_bond\ttorsional clash\tbackbone clash\thelix dipole\twater bridge\tdisulfide\telectrostatic kon\tpartial covalent bonds\tenergy Ionisation\tEntropy Complex\n",
      "    10\t2oun_1.pdb\t48.5803\t-496.513\t-106.608\t-844.996\t-44.7555\t1167.83\t-1106.86\t93.222\t434.833\t982.482\t0\t0\t0\t28.1817\t635.004\t-13.4822\t0\t0\t-0.00598712\t-50.7572\t6.00078\t0\n",
      "    11\tWT_2oun_1.pdb\t43.5746\t-497.615\t-106.603\t-845.86\t-44.7128\t1168.83\t-1108.47\t90.2695\t435.39\t982.408\t0\t0\t0\t28.1826\t637.368\t-13.4822\t0\t0\t-0.00598712\t-50.7572\t6.00078\t0\n"
     ]
    }
   ],
   "source": [
    "!cat -n ../lib/buildmodel_example/Raw_2oun.fxout"
   ]
  },
  {
   "attachments": {},
   "cell_type": "markdown",
   "id": "d2814f35-8396-47ac-a5cb-2ea43344afd8",
   "metadata": {},
   "source": [
    "Difference of 5kcal/mol"
   ]
  },
  {
   "attachments": {},
   "cell_type": "markdown",
   "id": "ebca51da-7252-4c4b-86ad-41ec09ede4e0",
   "metadata": {},
   "source": [
    "`Raw_2oun.fxout`"
   ]
  },
  {
   "cell_type": "code",
   "execution_count": 1,
   "id": "030547a1-b09d-43da-b5e0-c7c5154f1e97",
   "metadata": {},
   "outputs": [],
   "source": [
    "import pandas as pd"
   ]
  },
  {
   "cell_type": "code",
   "execution_count": 2,
   "id": "5ab3efa9-5994-47fd-8f43-f0075f307d24",
   "metadata": {},
   "outputs": [],
   "source": [
    "build = pd.read_csv('../lib/buildmodel_example/Raw_2oun.fxout', sep='\\t', header=7)\n",
    "build = build.T.drop(['Pdb']).astype('float64')\n",
    "build.columns = ['Mutated', 'WT']"
   ]
  },
  {
   "cell_type": "code",
   "execution_count": 3,
   "id": "84e80326-b083-4a61-a876-6c136119cbf8",
   "metadata": {},
   "outputs": [],
   "source": [
    "build[\"diff\"] = (build.Mutated - build.WT)"
   ]
  },
  {
   "cell_type": "code",
   "execution_count": 4,
   "id": "43899b12-9251-4eb6-87cb-f9ee56b62d94",
   "metadata": {},
   "outputs": [],
   "source": [
    "import seaborn as sns\n",
    "cm = sns.color_palette(\"coolwarm\", as_cmap=True)"
   ]
  },
  {
   "cell_type": "code",
   "execution_count": 5,
   "id": "d9fb2168-6803-4ed0-acd2-11db741376fb",
   "metadata": {},
   "outputs": [
    {
     "data": {
      "text/html": [
       "<style type=\"text/css\">\n",
       "#T_04fb7 td:hover {\n",
       "  background-color: #ffffb3;\n",
       "}\n",
       "#T_04fb7_row1_col2 {\n",
       "  background-color: #f7b194;\n",
       "  color: #000000;\n",
       "}\n",
       "#T_04fb7_row2_col2, #T_04fb7_row13_col2 {\n",
       "  background-color: #dcdddd;\n",
       "  color: #000000;\n",
       "}\n",
       "#T_04fb7_row3_col2 {\n",
       "  background-color: #f6bfa6;\n",
       "  color: #000000;\n",
       "}\n",
       "#T_04fb7_row4_col2 {\n",
       "  background-color: #dbdcde;\n",
       "  color: #000000;\n",
       "}\n",
       "#T_04fb7_row5_col2 {\n",
       "  background-color: #aac7fd;\n",
       "  color: #000000;\n",
       "}\n",
       "#T_04fb7_row6_col2 {\n",
       "  background-color: #f29274;\n",
       "  color: #f1f1f1;\n",
       "}\n",
       "#T_04fb7_row7_col2 {\n",
       "  background-color: #b70d28;\n",
       "  color: #f1f1f1;\n",
       "}\n",
       "#T_04fb7_row8_col2 {\n",
       "  background-color: #c3d5f4;\n",
       "  color: #000000;\n",
       "}\n",
       "#T_04fb7_row9_col2 {\n",
       "  background-color: #e0dbd8;\n",
       "  color: #000000;\n",
       "}\n",
       "#T_04fb7_row10_col2, #T_04fb7_row11_col2, #T_04fb7_row12_col2, #T_04fb7_row15_col2, #T_04fb7_row16_col2, #T_04fb7_row17_col2, #T_04fb7_row18_col2, #T_04fb7_row19_col2, #T_04fb7_row20_col2, #T_04fb7_row21_col2 {\n",
       "  background-color: #dddcdc;\n",
       "  color: #000000;\n",
       "}\n",
       "#T_04fb7_row14_col2 {\n",
       "  background-color: #5b7ae5;\n",
       "  color: #f1f1f1;\n",
       "}\n",
       "</style>\n",
       "<table id=\"T_04fb7\">\n",
       "  <thead>\n",
       "    <tr>\n",
       "      <th class=\"blank level0\" >&nbsp;</th>\n",
       "      <th id=\"T_04fb7_level0_col0\" class=\"col_heading level0 col0\" >Mutated</th>\n",
       "      <th id=\"T_04fb7_level0_col1\" class=\"col_heading level0 col1\" >WT</th>\n",
       "      <th id=\"T_04fb7_level0_col2\" class=\"col_heading level0 col2\" >diff</th>\n",
       "    </tr>\n",
       "  </thead>\n",
       "  <tbody>\n",
       "    <tr>\n",
       "      <th id=\"T_04fb7_level0_row0\" class=\"row_heading level0 row0\" >total energy</th>\n",
       "      <td id=\"T_04fb7_row0_col0\" class=\"data row0 col0\" >48.580</td>\n",
       "      <td id=\"T_04fb7_row0_col1\" class=\"data row0 col1\" >43.575</td>\n",
       "      <td id=\"T_04fb7_row0_col2\" class=\"data row0 col2\" >5.006</td>\n",
       "    </tr>\n",
       "    <tr>\n",
       "      <th id=\"T_04fb7_level0_row1\" class=\"row_heading level0 row1\" >Backbone Hbond</th>\n",
       "      <td id=\"T_04fb7_row1_col0\" class=\"data row1 col0\" >-496.513</td>\n",
       "      <td id=\"T_04fb7_row1_col1\" class=\"data row1 col1\" >-497.615</td>\n",
       "      <td id=\"T_04fb7_row1_col2\" class=\"data row1 col2\" >1.102</td>\n",
       "    </tr>\n",
       "    <tr>\n",
       "      <th id=\"T_04fb7_level0_row2\" class=\"row_heading level0 row2\" >Sidechain Hbond</th>\n",
       "      <td id=\"T_04fb7_row2_col0\" class=\"data row2 col0\" >-106.608</td>\n",
       "      <td id=\"T_04fb7_row2_col1\" class=\"data row2 col1\" >-106.603</td>\n",
       "      <td id=\"T_04fb7_row2_col2\" class=\"data row2 col2\" >-0.005</td>\n",
       "    </tr>\n",
       "    <tr>\n",
       "      <th id=\"T_04fb7_level0_row3\" class=\"row_heading level0 row3\" >Van der Waals</th>\n",
       "      <td id=\"T_04fb7_row3_col0\" class=\"data row3 col0\" >-844.996</td>\n",
       "      <td id=\"T_04fb7_row3_col1\" class=\"data row3 col1\" >-845.860</td>\n",
       "      <td id=\"T_04fb7_row3_col2\" class=\"data row3 col2\" >0.864</td>\n",
       "    </tr>\n",
       "    <tr>\n",
       "      <th id=\"T_04fb7_level0_row4\" class=\"row_heading level0 row4\" >Electrostatics</th>\n",
       "      <td id=\"T_04fb7_row4_col0\" class=\"data row4 col0\" >-44.755</td>\n",
       "      <td id=\"T_04fb7_row4_col1\" class=\"data row4 col1\" >-44.713</td>\n",
       "      <td id=\"T_04fb7_row4_col2\" class=\"data row4 col2\" >-0.043</td>\n",
       "    </tr>\n",
       "    <tr>\n",
       "      <th id=\"T_04fb7_level0_row5\" class=\"row_heading level0 row5\" >Solvation Polar</th>\n",
       "      <td id=\"T_04fb7_row5_col0\" class=\"data row5 col0\" >1167.830</td>\n",
       "      <td id=\"T_04fb7_row5_col1\" class=\"data row5 col1\" >1168.830</td>\n",
       "      <td id=\"T_04fb7_row5_col2\" class=\"data row5 col2\" >-1.000</td>\n",
       "    </tr>\n",
       "    <tr>\n",
       "      <th id=\"T_04fb7_level0_row6\" class=\"row_heading level0 row6\" >Solvation Hydrophobic</th>\n",
       "      <td id=\"T_04fb7_row6_col0\" class=\"data row6 col0\" >-1106.860</td>\n",
       "      <td id=\"T_04fb7_row6_col1\" class=\"data row6 col1\" >-1108.470</td>\n",
       "      <td id=\"T_04fb7_row6_col2\" class=\"data row6 col2\" >1.610</td>\n",
       "    </tr>\n",
       "    <tr>\n",
       "      <th id=\"T_04fb7_level0_row7\" class=\"row_heading level0 row7\" >Van der Waals clashes</th>\n",
       "      <td id=\"T_04fb7_row7_col0\" class=\"data row7 col0\" >93.222</td>\n",
       "      <td id=\"T_04fb7_row7_col1\" class=\"data row7 col1\" >90.269</td>\n",
       "      <td id=\"T_04fb7_row7_col2\" class=\"data row7 col2\" >2.953</td>\n",
       "    </tr>\n",
       "    <tr>\n",
       "      <th id=\"T_04fb7_level0_row8\" class=\"row_heading level0 row8\" >entropy sidechain</th>\n",
       "      <td id=\"T_04fb7_row8_col0\" class=\"data row8 col0\" >434.833</td>\n",
       "      <td id=\"T_04fb7_row8_col1\" class=\"data row8 col1\" >435.390</td>\n",
       "      <td id=\"T_04fb7_row8_col2\" class=\"data row8 col2\" >-0.557</td>\n",
       "    </tr>\n",
       "    <tr>\n",
       "      <th id=\"T_04fb7_level0_row9\" class=\"row_heading level0 row9\" >entropy mainchain</th>\n",
       "      <td id=\"T_04fb7_row9_col0\" class=\"data row9 col0\" >982.482</td>\n",
       "      <td id=\"T_04fb7_row9_col1\" class=\"data row9 col1\" >982.408</td>\n",
       "      <td id=\"T_04fb7_row9_col2\" class=\"data row9 col2\" >0.074</td>\n",
       "    </tr>\n",
       "    <tr>\n",
       "      <th id=\"T_04fb7_level0_row10\" class=\"row_heading level0 row10\" >sloop_entropy</th>\n",
       "      <td id=\"T_04fb7_row10_col0\" class=\"data row10 col0\" >0.000</td>\n",
       "      <td id=\"T_04fb7_row10_col1\" class=\"data row10 col1\" >0.000</td>\n",
       "      <td id=\"T_04fb7_row10_col2\" class=\"data row10 col2\" >0.000</td>\n",
       "    </tr>\n",
       "    <tr>\n",
       "      <th id=\"T_04fb7_level0_row11\" class=\"row_heading level0 row11\" >mloop_entropy</th>\n",
       "      <td id=\"T_04fb7_row11_col0\" class=\"data row11 col0\" >0.000</td>\n",
       "      <td id=\"T_04fb7_row11_col1\" class=\"data row11 col1\" >0.000</td>\n",
       "      <td id=\"T_04fb7_row11_col2\" class=\"data row11 col2\" >0.000</td>\n",
       "    </tr>\n",
       "    <tr>\n",
       "      <th id=\"T_04fb7_level0_row12\" class=\"row_heading level0 row12\" >cis_bond</th>\n",
       "      <td id=\"T_04fb7_row12_col0\" class=\"data row12 col0\" >0.000</td>\n",
       "      <td id=\"T_04fb7_row12_col1\" class=\"data row12 col1\" >0.000</td>\n",
       "      <td id=\"T_04fb7_row12_col2\" class=\"data row12 col2\" >0.000</td>\n",
       "    </tr>\n",
       "    <tr>\n",
       "      <th id=\"T_04fb7_level0_row13\" class=\"row_heading level0 row13\" >torsional clash</th>\n",
       "      <td id=\"T_04fb7_row13_col0\" class=\"data row13 col0\" >28.182</td>\n",
       "      <td id=\"T_04fb7_row13_col1\" class=\"data row13 col1\" >28.183</td>\n",
       "      <td id=\"T_04fb7_row13_col2\" class=\"data row13 col2\" >-0.001</td>\n",
       "    </tr>\n",
       "    <tr>\n",
       "      <th id=\"T_04fb7_level0_row14\" class=\"row_heading level0 row14\" >backbone clash</th>\n",
       "      <td id=\"T_04fb7_row14_col0\" class=\"data row14 col0\" >635.004</td>\n",
       "      <td id=\"T_04fb7_row14_col1\" class=\"data row14 col1\" >637.368</td>\n",
       "      <td id=\"T_04fb7_row14_col2\" class=\"data row14 col2\" >-2.364</td>\n",
       "    </tr>\n",
       "    <tr>\n",
       "      <th id=\"T_04fb7_level0_row15\" class=\"row_heading level0 row15\" >helix dipole</th>\n",
       "      <td id=\"T_04fb7_row15_col0\" class=\"data row15 col0\" >-13.482</td>\n",
       "      <td id=\"T_04fb7_row15_col1\" class=\"data row15 col1\" >-13.482</td>\n",
       "      <td id=\"T_04fb7_row15_col2\" class=\"data row15 col2\" >0.000</td>\n",
       "    </tr>\n",
       "    <tr>\n",
       "      <th id=\"T_04fb7_level0_row16\" class=\"row_heading level0 row16\" >water bridge</th>\n",
       "      <td id=\"T_04fb7_row16_col0\" class=\"data row16 col0\" >0.000</td>\n",
       "      <td id=\"T_04fb7_row16_col1\" class=\"data row16 col1\" >0.000</td>\n",
       "      <td id=\"T_04fb7_row16_col2\" class=\"data row16 col2\" >0.000</td>\n",
       "    </tr>\n",
       "    <tr>\n",
       "      <th id=\"T_04fb7_level0_row17\" class=\"row_heading level0 row17\" >disulfide</th>\n",
       "      <td id=\"T_04fb7_row17_col0\" class=\"data row17 col0\" >0.000</td>\n",
       "      <td id=\"T_04fb7_row17_col1\" class=\"data row17 col1\" >0.000</td>\n",
       "      <td id=\"T_04fb7_row17_col2\" class=\"data row17 col2\" >0.000</td>\n",
       "    </tr>\n",
       "    <tr>\n",
       "      <th id=\"T_04fb7_level0_row18\" class=\"row_heading level0 row18\" >electrostatic kon</th>\n",
       "      <td id=\"T_04fb7_row18_col0\" class=\"data row18 col0\" >-0.006</td>\n",
       "      <td id=\"T_04fb7_row18_col1\" class=\"data row18 col1\" >-0.006</td>\n",
       "      <td id=\"T_04fb7_row18_col2\" class=\"data row18 col2\" >0.000</td>\n",
       "    </tr>\n",
       "    <tr>\n",
       "      <th id=\"T_04fb7_level0_row19\" class=\"row_heading level0 row19\" >partial covalent bonds</th>\n",
       "      <td id=\"T_04fb7_row19_col0\" class=\"data row19 col0\" >-50.757</td>\n",
       "      <td id=\"T_04fb7_row19_col1\" class=\"data row19 col1\" >-50.757</td>\n",
       "      <td id=\"T_04fb7_row19_col2\" class=\"data row19 col2\" >0.000</td>\n",
       "    </tr>\n",
       "    <tr>\n",
       "      <th id=\"T_04fb7_level0_row20\" class=\"row_heading level0 row20\" >energy Ionisation</th>\n",
       "      <td id=\"T_04fb7_row20_col0\" class=\"data row20 col0\" >6.001</td>\n",
       "      <td id=\"T_04fb7_row20_col1\" class=\"data row20 col1\" >6.001</td>\n",
       "      <td id=\"T_04fb7_row20_col2\" class=\"data row20 col2\" >0.000</td>\n",
       "    </tr>\n",
       "    <tr>\n",
       "      <th id=\"T_04fb7_level0_row21\" class=\"row_heading level0 row21\" >Entropy Complex</th>\n",
       "      <td id=\"T_04fb7_row21_col0\" class=\"data row21 col0\" >0.000</td>\n",
       "      <td id=\"T_04fb7_row21_col1\" class=\"data row21 col1\" >0.000</td>\n",
       "      <td id=\"T_04fb7_row21_col2\" class=\"data row21 col2\" >0.000</td>\n",
       "    </tr>\n",
       "  </tbody>\n",
       "</table>\n"
      ],
      "text/plain": [
       "<pandas.io.formats.style.Styler at 0x11e8e5900>"
      ]
     },
     "execution_count": 5,
     "metadata": {},
     "output_type": "execute_result"
    }
   ],
   "source": [
    "cell_hover = {  # for row hover use <tr> instead of <td>\n",
    "    'selector': 'td:hover',\n",
    "    'props': [('background-color', '#ffffb3')]\n",
    "}\n",
    "\n",
    "def make_pretty(styler):\n",
    "    styler.format(precision=3)\n",
    "    styler.set_table_styles([cell_hover])\n",
    "    styler.background_gradient(axis=0, cmap=cm, subset=pd.IndexSlice[\"Backbone Hbond\":,\"diff\"], vmin=-3, vmax=3)\n",
    "    return styler\n",
    "\n",
    "build.style.pipe(make_pretty)"
   ]
  },
  {
   "attachments": {},
   "cell_type": "markdown",
   "id": "0c728d98-4df5-46b5-b703-1f162291b5ca",
   "metadata": {},
   "source": [
    "`Dif_2oun.fxout`"
   ]
  },
  {
   "cell_type": "code",
   "execution_count": 6,
   "id": "98660aba-86d7-491e-aea3-49cda35ef858",
   "metadata": {},
   "outputs": [],
   "source": [
    "import pandas as pd"
   ]
  },
  {
   "cell_type": "code",
   "execution_count": 7,
   "id": "9d6b5c2b-a474-48e8-a192-1b7fd606c736",
   "metadata": {},
   "outputs": [],
   "source": [
    "build = pd.read_csv('../lib/buildmodel_example/Dif_2oun.fxout', sep='\\t', header=7)\n",
    "build = build.T.drop(['Pdb']).astype('float64')"
   ]
  },
  {
   "cell_type": "code",
   "execution_count": 8,
   "id": "ce6d1a87-21f7-4df4-98bb-e04aaf1bdf2e",
   "metadata": {},
   "outputs": [],
   "source": [
    "from pathlib import Path"
   ]
  },
  {
   "cell_type": "code",
   "execution_count": 9,
   "id": "46424c84-ac35-4988-b933-0cf753d321d9",
   "metadata": {},
   "outputs": [
    {
     "data": {
      "text/html": [
       "<div>\n",
       "<style scoped>\n",
       "    .dataframe tbody tr th:only-of-type {\n",
       "        vertical-align: middle;\n",
       "    }\n",
       "\n",
       "    .dataframe tbody tr th {\n",
       "        vertical-align: top;\n",
       "    }\n",
       "\n",
       "    .dataframe thead th {\n",
       "        text-align: right;\n",
       "    }\n",
       "</style>\n",
       "<table border=\"1\" class=\"dataframe\">\n",
       "  <thead>\n",
       "    <tr style=\"text-align: right;\">\n",
       "      <th></th>\n",
       "      <th>0</th>\n",
       "    </tr>\n",
       "  </thead>\n",
       "  <tbody>\n",
       "    <tr>\n",
       "      <th>total energy</th>\n",
       "      <td>5.005650e+00</td>\n",
       "    </tr>\n",
       "    <tr>\n",
       "      <th>Backbone Hbond</th>\n",
       "      <td>1.102170e+00</td>\n",
       "    </tr>\n",
       "    <tr>\n",
       "      <th>Sidechain Hbond</th>\n",
       "      <td>-4.634960e-03</td>\n",
       "    </tr>\n",
       "    <tr>\n",
       "      <th>Van der Waals</th>\n",
       "      <td>8.637810e-01</td>\n",
       "    </tr>\n",
       "    <tr>\n",
       "      <th>Electrostatics</th>\n",
       "      <td>-4.268110e-02</td>\n",
       "    </tr>\n",
       "    <tr>\n",
       "      <th>Solvation Polar</th>\n",
       "      <td>-9.943260e-01</td>\n",
       "    </tr>\n",
       "    <tr>\n",
       "      <th>Solvation Hydrophobic</th>\n",
       "      <td>1.611940e+00</td>\n",
       "    </tr>\n",
       "    <tr>\n",
       "      <th>Van der Waals clashes</th>\n",
       "      <td>2.952540e+00</td>\n",
       "    </tr>\n",
       "    <tr>\n",
       "      <th>entropy sidechain</th>\n",
       "      <td>-5.567870e-01</td>\n",
       "    </tr>\n",
       "    <tr>\n",
       "      <th>entropy mainchain</th>\n",
       "      <td>7.456000e-02</td>\n",
       "    </tr>\n",
       "    <tr>\n",
       "      <th>sloop_entropy</th>\n",
       "      <td>0.000000e+00</td>\n",
       "    </tr>\n",
       "    <tr>\n",
       "      <th>mloop_entropy</th>\n",
       "      <td>0.000000e+00</td>\n",
       "    </tr>\n",
       "    <tr>\n",
       "      <th>cis_bond</th>\n",
       "      <td>0.000000e+00</td>\n",
       "    </tr>\n",
       "    <tr>\n",
       "      <th>torsional clash</th>\n",
       "      <td>-9.206900e-04</td>\n",
       "    </tr>\n",
       "    <tr>\n",
       "      <th>backbone clash</th>\n",
       "      <td>-2.363890e+00</td>\n",
       "    </tr>\n",
       "    <tr>\n",
       "      <th>helix dipole</th>\n",
       "      <td>0.000000e+00</td>\n",
       "    </tr>\n",
       "    <tr>\n",
       "      <th>water bridge</th>\n",
       "      <td>0.000000e+00</td>\n",
       "    </tr>\n",
       "    <tr>\n",
       "      <th>disulfide</th>\n",
       "      <td>0.000000e+00</td>\n",
       "    </tr>\n",
       "    <tr>\n",
       "      <th>electrostatic kon</th>\n",
       "      <td>-8.673620e-19</td>\n",
       "    </tr>\n",
       "    <tr>\n",
       "      <th>partial covalent bonds</th>\n",
       "      <td>3.311130e-12</td>\n",
       "    </tr>\n",
       "    <tr>\n",
       "      <th>energy Ionisation</th>\n",
       "      <td>0.000000e+00</td>\n",
       "    </tr>\n",
       "    <tr>\n",
       "      <th>Entropy Complex</th>\n",
       "      <td>0.000000e+00</td>\n",
       "    </tr>\n",
       "  </tbody>\n",
       "</table>\n",
       "</div>"
      ],
      "text/plain": [
       "                                   0\n",
       "total energy            5.005650e+00\n",
       "Backbone Hbond          1.102170e+00\n",
       "Sidechain Hbond        -4.634960e-03\n",
       "Van der Waals           8.637810e-01\n",
       "Electrostatics         -4.268110e-02\n",
       "Solvation Polar        -9.943260e-01\n",
       "Solvation Hydrophobic   1.611940e+00\n",
       "Van der Waals clashes   2.952540e+00\n",
       "entropy sidechain      -5.567870e-01\n",
       "entropy mainchain       7.456000e-02\n",
       "sloop_entropy           0.000000e+00\n",
       "mloop_entropy           0.000000e+00\n",
       "cis_bond                0.000000e+00\n",
       "torsional clash        -9.206900e-04\n",
       "backbone clash         -2.363890e+00\n",
       "helix dipole            0.000000e+00\n",
       "water bridge            0.000000e+00\n",
       "disulfide               0.000000e+00\n",
       "electrostatic kon      -8.673620e-19\n",
       "partial covalent bonds  3.311130e-12\n",
       "energy Ionisation       0.000000e+00\n",
       "Entropy Complex         0.000000e+00"
      ]
     },
     "execution_count": 9,
     "metadata": {},
     "output_type": "execute_result"
    }
   ],
   "source": [
    "build"
   ]
  },
  {
   "cell_type": "code",
   "execution_count": 10,
   "id": "7f1440f9-3206-42ca-9946-1e51fdf14200",
   "metadata": {},
   "outputs": [
    {
     "data": {
      "text/plain": [
       "total energy              5.005650e+00\n",
       "Backbone Hbond            1.102170e+00\n",
       "Sidechain Hbond          -4.634960e-03\n",
       "Van der Waals             8.637810e-01\n",
       "Electrostatics           -4.268110e-02\n",
       "Solvation Polar          -9.943260e-01\n",
       "Solvation Hydrophobic     1.611940e+00\n",
       "Van der Waals clashes     2.952540e+00\n",
       "entropy sidechain        -5.567870e-01\n",
       "entropy mainchain         7.456000e-02\n",
       "sloop_entropy             0.000000e+00\n",
       "mloop_entropy             0.000000e+00\n",
       "cis_bond                  0.000000e+00\n",
       "torsional clash          -9.206900e-04\n",
       "backbone clash           -2.363890e+00\n",
       "helix dipole              0.000000e+00\n",
       "water bridge              0.000000e+00\n",
       "disulfide                 0.000000e+00\n",
       "electrostatic kon        -8.673620e-19\n",
       "partial covalent bonds    3.311130e-12\n",
       "energy Ionisation         0.000000e+00\n",
       "Entropy Complex           0.000000e+00\n",
       "Name: 0, dtype: float64"
      ]
     },
     "execution_count": 10,
     "metadata": {},
     "output_type": "execute_result"
    }
   ],
   "source": [
    "build[0]"
   ]
  },
  {
   "attachments": {},
   "cell_type": "markdown",
   "id": "6d1f2cf9-919a-4614-8afa-0e54afff3530",
   "metadata": {},
   "source": [
    "This has the same elements as the `diff` column calculated from the previous file. Return this column only in the wrapper"
   ]
  },
  {
   "attachments": {},
   "cell_type": "markdown",
   "id": "7ccde4ec-9f13-4f8c-b30c-ea83c7866ff8",
   "metadata": {},
   "source": [
    "#### Calculate stability of `2oun.pdb`, `2oun_1.pdb` and `WT_2oun_1.pdb`"
   ]
  },
  {
   "cell_type": "raw",
   "id": "6e30bf8f-ebe7-4c88-a2e0-123c0ba99b83",
   "metadata": {
    "tags": []
   },
   "source": [
    "(base) login509-02-r:/ibex/scratch/guzmanfj/py/aroldlab/FoldX_ibex/lib/stability_build1$ ../foldx_20221231 --command=Stability --pdb=2oun.pdb\n",
    "   ********************************************\n",
    "   ***                                      ***\n",
    "   ***             FoldX 5 (c)              ***\n",
    "   ***                                      ***\n",
    "   ***     code by the FoldX Consortium     ***\n",
    "   ***                                      ***\n",
    "   ***     Jesper Borg, Frederic Rousseau   ***\n",
    "   ***    Joost Schymkowitz, Luis Serrano   ***\n",
    "   ***    Peter Vanhee, Erik Verschueren    ***\n",
    "   ***     Lies Baeten, Javier Delgado      ***\n",
    "   ***       and Francois Stricher          ***\n",
    "   *** and any other of the 9! permutations ***\n",
    "   ***   based on an original concept by    ***\n",
    "   ***   Raphael Guerois and Luis Serrano   ***\n",
    "   ********************************************\n",
    "\n",
    "Stability >>>\n",
    "\n",
    "1 models read: 2oun.pdb\n",
    "./2oun_0_ST.fxout\n",
    "Output Directory: ./\n",
    "Output File: 2oun_0_ST.fxout\n",
    "Configuration File: config_2oun_0_ST.cfg\n",
    "\n",
    "BackHbond       =               -496.83\n",
    "SideHbond       =               -105.93\n",
    "Energy_VdW      =               -845.41\n",
    "Electro         =               -44.83\n",
    "Energy_SolvP    =               1169.12\n",
    "Energy_SolvH    =               -1107.69\n",
    "Energy_vdwclash =               90.75\n",
    "energy_torsion  =               28.21\n",
    "backbone_vdwclash=              637.10\n",
    "Entropy_sidec   =               435.30\n",
    "Entropy_mainc   =               982.47\n",
    "water bonds     =               0.00\n",
    "helix dipole    =               -13.45\n",
    "loop_entropy    =               0.00\n",
    "cis_bond        =               0.00\n",
    "disulfide       =               0.00\n",
    "kn electrostatic=               -0.01\n",
    "partial covalent interactions = -49.81\n",
    "Energy_Ionisation =             6.00\n",
    "Entropy Complex =               0.00\n",
    "-----------------------------------------------------------\n",
    "Total          = \t\t\t\t  47.91\n",
    "\n",
    "FINISHING STABILITY ANALYSIS OPTION\n",
    "\n",
    "Your file run OK\n",
    "End time of FoldX: Wed Apr 20 13:57:23 2022\n",
    "Total time spend: 4.32 seconds.\n",
    "(base) login509-02-r:/ibex/scratch/guzmanfj/py/aroldlab/FoldX_ibex/lib/stability_build1$ ../foldx_20221231 --command=Stability --pdb=2oun_1.pdb\n",
    "   ********************************************\n",
    "   ***                                      ***\n",
    "   ***             FoldX 5 (c)              ***\n",
    "   ***                                      ***\n",
    "   ***     code by the FoldX Consortium     ***\n",
    "   ***                                      ***\n",
    "   ***     Jesper Borg, Frederic Rousseau   ***\n",
    "   ***    Joost Schymkowitz, Luis Serrano   ***\n",
    "   ***    Peter Vanhee, Erik Verschueren    ***\n",
    "   ***     Lies Baeten, Javier Delgado      ***\n",
    "   ***       and Francois Stricher          ***\n",
    "   *** and any other of the 9! permutations ***\n",
    "   ***   based on an original concept by    ***\n",
    "   ***   Raphael Guerois and Luis Serrano   ***\n",
    "   ********************************************\n",
    "\n",
    "Stability >>>\n",
    "\n",
    "1 models read: 2oun_1.pdb\n",
    "./2oun_1_0_ST.fxout\n",
    "Output Directory: ./\n",
    "Output File: 2oun_1_0_ST.fxout\n",
    "Configuration File: config_2oun_1_0_ST.cfg\n",
    "\n",
    "BackHbond       =               -496.51\n",
    "SideHbond       =               -106.61\n",
    "Energy_VdW      =               -845.00\n",
    "Electro         =               -44.76\n",
    "Energy_SolvP    =               1168.43\n",
    "Energy_SolvH    =               -1106.86\n",
    "Energy_vdwclash =               93.22\n",
    "energy_torsion  =               28.18\n",
    "backbone_vdwclash=              635.00\n",
    "Entropy_sidec   =               434.83\n",
    "Entropy_mainc   =               982.48\n",
    "water bonds     =               0.00\n",
    "helix dipole    =               -13.19\n",
    "loop_entropy    =               0.00\n",
    "cis_bond        =               0.00\n",
    "disulfide       =               0.00\n",
    "kn electrostatic=               -0.01\n",
    "partial covalent interactions = -50.75\n",
    "Energy_Ionisation =             6.00\n",
    "Entropy Complex =               0.00\n",
    "-----------------------------------------------------------\n",
    "Total          = \t\t\t\t  49.48\n",
    "\n",
    "FINISHING STABILITY ANALYSIS OPTION\n",
    "\n",
    "Your file run OK\n",
    "End time of FoldX: Wed Apr 20 13:57:37 2022\n",
    "Total time spend: 4.38 seconds.\n",
    "(base) login509-02-r:/ibex/scratch/guzmanfj/py/aroldlab/FoldX_ibex/lib/stability_build1$ ../foldx_20221231 --command=Stability --pdb=WT_2oun_1.pdb\n",
    "   ********************************************\n",
    "   ***                                      ***\n",
    "   ***             FoldX 5 (c)              ***\n",
    "   ***                                      ***\n",
    "   ***     code by the FoldX Consortium     ***\n",
    "   ***                                      ***\n",
    "   ***     Jesper Borg, Frederic Rousseau   ***\n",
    "   ***    Joost Schymkowitz, Luis Serrano   ***\n",
    "   ***    Peter Vanhee, Erik Verschueren    ***\n",
    "   ***     Lies Baeten, Javier Delgado      ***\n",
    "   ***       and Francois Stricher          ***\n",
    "   *** and any other of the 9! permutations ***\n",
    "   ***   based on an original concept by    ***\n",
    "   ***   Raphael Guerois and Luis Serrano   ***\n",
    "   ********************************************\n",
    "\n",
    "Stability >>>\n",
    "\n",
    "1 models read: WT_2oun_1.pdb\n",
    "./WT_2oun_1_0_ST.fxout\n",
    "Output Directory: ./\n",
    "Output File: WT_2oun_1_0_ST.fxout\n",
    "Configuration File: config_WT_2oun_1_0_ST.cfg\n",
    "\n",
    "BackHbond       =               -497.61\n",
    "SideHbond       =               -106.60\n",
    "Energy_VdW      =               -845.86\n",
    "Electro         =               -44.71\n",
    "Energy_SolvP    =               1168.83\n",
    "Energy_SolvH    =               -1108.47\n",
    "Energy_vdwclash =               90.27\n",
    "energy_torsion  =               28.18\n",
    "backbone_vdwclash=              637.37\n",
    "Entropy_sidec   =               435.39\n",
    "Entropy_mainc   =               982.41\n",
    "water bonds     =               0.00\n",
    "helix dipole    =               -13.48\n",
    "loop_entropy    =               0.00\n",
    "cis_bond        =               0.00\n",
    "disulfide       =               0.00\n",
    "kn electrostatic=               -0.01\n",
    "partial covalent interactions = -50.75\n",
    "Energy_Ionisation =             6.00\n",
    "Entropy Complex =               0.00\n",
    "-----------------------------------------------------------\n",
    "Total          = \t\t\t\t  43.58\n",
    "\n",
    "FINISHING STABILITY ANALYSIS OPTION\n",
    "\n",
    "Your file run OK\n",
    "End time of FoldX: Wed Apr 20 13:57:48 2022\n",
    "Total time spend: 4.39 seconds."
   ]
  },
  {
   "attachments": {},
   "cell_type": "markdown",
   "id": "fa485e11-a570-477d-9085-24ac37c4c05a",
   "metadata": {},
   "source": [
    "The original `2oun.pdb` seems to be less stable than the modified WT, but more stable than the mutated."
   ]
  },
  {
   "cell_type": "code",
   "execution_count": null,
   "id": "1c549876-9e6b-4a9d-ba3f-dc53e3aa08be",
   "metadata": {},
   "outputs": [],
   "source": []
  },
  {
   "attachments": {},
   "cell_type": "markdown",
   "id": "38c23aee-9ded-4ce3-9d86-b45890bdc3ae",
   "metadata": {},
   "source": [
    "### Example 1 with 2oun_Repair"
   ]
  },
  {
   "cell_type": "raw",
   "id": "b01269f0-9c0d-4d55-b98e-1319bfd7f1f0",
   "metadata": {
    "tags": []
   },
   "source": [
    "buildmodel_example_repaired$ ll\n",
    "total 348K\n",
    "-rw-r--r-- 1 guzmanfj g-guzmanfj 347K Apr 19 16:34 2oun_Repair.pdb\n",
    "-rw-r--r-- 1 guzmanfj g-guzmanfj    8 Apr 19 16:34 individual_list.txt\n",
    "lrwxr-xr-x 1 guzmanfj g-guzmanfj   62 Apr 19 16:34 rotabase.txt -> /ibex/scratch/guzmanfj/py/aroldlab/FoldX_ibex/lib/rotabase.txt\n",
    "\n",
    "\n",
    "buildmodel_example_repaired$ ../foldx_20221231 --command=BuildModel --pdb=2oun_Repair.pdb --mutant-file=individual_list.txt\n",
    "   ********************************************\n",
    "   ***                                      ***\n",
    "   ***             FoldX 5 (c)              ***\n",
    "   ***                                      ***\n",
    "   ***     code by the FoldX Consortium     ***\n",
    "   ***                                      ***\n",
    "   ***     Jesper Borg, Frederic Rousseau   ***\n",
    "   ***    Joost Schymkowitz, Luis Serrano   ***\n",
    "   ***    Peter Vanhee, Erik Verschueren    ***\n",
    "   ***     Lies Baeten, Javier Delgado      ***\n",
    "   ***       and Francois Stricher          ***\n",
    "   *** and any other of the 9! permutations ***\n",
    "   ***   based on an original concept by    ***\n",
    "   ***   Raphael Guerois and Luis Serrano   ***\n",
    "   ********************************************\n",
    "\n",
    "1 models read: 2oun_Repair.pdb\n",
    "Output: ./2oun_Repair.log\n",
    "\n",
    "BackHbond       =               -548.54\n",
    "SideHbond       =               -201.34\n",
    "Energy_VdW      =               -850.56\n",
    "Electro         =               -38.45\n",
    "Energy_SolvP    =               1126.53\n",
    "Energy_SolvH    =               -1127.15\n",
    "Energy_vdwclash =               25.93\n",
    "energy_torsion  =               16.49\n",
    "backbone_vdwclash=              637.67\n",
    "Entropy_sidec   =               462.29\n",
    "Entropy_mainc   =               984.50\n",
    "water bonds     =               0.00\n",
    "helix dipole    =               -22.05\n",
    "loop_entropy    =               0.00\n",
    "cis_bond        =               0.00\n",
    "disulfide       =               0.00\n",
    "kn electrostatic=               -0.03\n",
    "partial covalent interactions = -53.62\n",
    "Energy_Ionisation =             6.45\n",
    "Entropy Complex =               0.00\n",
    "-----------------------------------------------------------\n",
    "Total          = \t\t\t\t  -219.57\n",
    "\n",
    "Starting BuildModel\n",
    "Reading LA675P;\n",
    "Residue to Mutate LEUA675 has residue index 228\n",
    "Mutating residue = LEUA675 into PRO\n",
    "Your file run OK\n",
    "End time of FoldX: Tue Apr 19 22:29:29 2022\n",
    "Total time spend: 8.89 seconds.\n",
    "validated file \"2oun_Repair_1.pdb\" => successfully finished\n",
    "Cleaning BuildModel...DONE\n",
    "\n",
    "buildmodel_example_repaired$ ll\n",
    "total 1.1M\n",
    "-rw-r--r-- 1 guzmanfj g-guzmanfj 347K Apr 19 16:34 2oun_Repair.pdb\n",
    "-rw-r--r-- 1 guzmanfj g-guzmanfj 347K Apr 19 22:29 2oun_Repair_1.pdb\n",
    "-rw-r--r-- 1 guzmanfj g-guzmanfj  733 Apr 19 22:29 Average_2oun_Repair.fxout\n",
    "-rw-r--r-- 1 guzmanfj g-guzmanfj  732 Apr 19 22:29 Dif_2oun_Repair.fxout\n",
    "-rw-r--r-- 1 guzmanfj g-guzmanfj   39 Apr 19 22:29 PdbList_2oun_Repair.fxout\n",
    "-rw-r--r-- 1 guzmanfj g-guzmanfj  914 Apr 19 22:29 Raw_2oun_Repair.fxout\n",
    "-rw-r--r-- 1 guzmanfj g-guzmanfj 347K Apr 19 22:29 WT_2oun_Repair_1.pdb\n",
    "-rw-r--r-- 1 guzmanfj g-guzmanfj    8 Apr 19 16:34 individual_list.txt\n",
    "drwxr-xr-x 2 guzmanfj g-guzmanfj    0 Apr 19 22:29 molecules/\n",
    "lrwxr-xr-x 1 guzmanfj g-guzmanfj   62 Apr 19 16:34 rotabase.txt -> /ibex/scratch/guzmanfj/py/aroldlab/FoldX_ibex/lib/rotabase.txt"
   ]
  },
  {
   "attachments": {},
   "cell_type": "markdown",
   "id": "a51b7463-f0bd-44ae-84a7-3db309cb4bba",
   "metadata": {},
   "source": [
    "WT_repaired vs mutant_repaired:"
   ]
  },
  {
   "attachments": {},
   "cell_type": "markdown",
   "id": "cd2ec676-559b-45c3-8031-ce3092cd0f8a",
   "metadata": {},
   "source": [
    "<img src=\"../lib/buildmodel_example_repaired/pictures/WT_repaired_mutant.png\" style=\"height:500px\">"
   ]
  },
  {
   "attachments": {},
   "cell_type": "markdown",
   "id": "8bd6624d-6781-47ed-ac5b-cfbd79dc5a78",
   "metadata": {},
   "source": [
    "There are few residues moved besides the mutation"
   ]
  },
  {
   "attachments": {},
   "cell_type": "markdown",
   "id": "083f7be7-cf0e-4f7a-8bd4-2e93e87ac2d9",
   "metadata": {},
   "source": [
    "WT vs mutant_repaired:"
   ]
  },
  {
   "attachments": {},
   "cell_type": "markdown",
   "id": "030a9cb0-3d96-4eb0-a5cd-7a816a0bcd33",
   "metadata": {},
   "source": [
    "<img src=\"../lib/buildmodel_example_repaired/pictures/WT_mutant.png\" style=\"height:500px\">"
   ]
  },
  {
   "attachments": {},
   "cell_type": "markdown",
   "id": "9cf9f97b-281e-4825-8149-bc4d209f3d5c",
   "metadata": {},
   "source": [
    "Many more discrepancies."
   ]
  },
  {
   "cell_type": "code",
   "execution_count": 15,
   "id": "3398dde0-8fd9-45f3-9449-4923f6b26f2d",
   "metadata": {},
   "outputs": [
    {
     "name": "stdout",
     "output_type": "stream",
     "text": [
      "FoldX 5 (2011)\n",
      "by the FoldX Consortium \n",
      "Jesper Borg, Frederic Rousseau, Joost Schymkowitz,\n",
      "Luis Serrano and Francois Stricher\n",
      "------------------------------------------------------\n",
      "\n",
      "PDB file analysed: batch\n",
      "Output type: BuildModel\n",
      "Pdb\ttotal energy\tBackbone Hbond\tSidechain Hbond\tVan der Waals\tElectrostatics\tSolvation Polar\tSolvation Hydrophobic\tVan der Waals clashes\tentropy sidechain\tentropy mainchain\tsloop_entropy\tmloop_entropy\tcis_bond\ttorsional clash\tbackbone clash\thelix dipole\twater bridge\tdisulfide\telectrostatic kon\tpartial covalent bonds\tenergy Ionisation\tEntropy Complex\n",
      "2oun_Repair_1.pdb\t4.99875\t1.09712\t-0.0253298\t0.884005\t-0.0414489\t-1.00021\t1.65412\t2.91356\t-0.556598\t0.07456\t0\t0\t0\t-0.00102018\t-2.36442\t0\t0\t0\t0\t0\t0\t0\n"
     ]
    }
   ],
   "source": [
    "!cat ../lib/buildmodel_example_repaired/Dif_2oun_Repair.fxout"
   ]
  },
  {
   "cell_type": "code",
   "execution_count": 16,
   "id": "88995105-9523-4ed0-8448-a19f6279fc37",
   "metadata": {},
   "outputs": [
    {
     "name": "stdout",
     "output_type": "stream",
     "text": [
      "FoldX 5 (2011)\n",
      "by the FoldX Consortium \n",
      "Jesper Borg, Frederic Rousseau, Joost Schymkowitz,\n",
      "Luis Serrano and Francois Stricher\n",
      "------------------------------------------------------\n",
      "\n",
      "PDB file analysed: batch\n",
      "Output type: BuildModel\n",
      "Pdb\ttotal energy\tBackbone Hbond\tSidechain Hbond\tVan der Waals\tElectrostatics\tSolvation Polar\tSolvation Hydrophobic\tVan der Waals clashes\tentropy sidechain\tentropy mainchain\tsloop_entropy\tmloop_entropy\tcis_bond\ttorsional clash\tbackbone clash\thelix dipole\twater bridge\tdisulfide\telectrostatic kon\tpartial covalent bonds\tenergy Ionisation\tEntropy Complex\n",
      "2oun_Repair_1.pdb\t-216.501\t-548.22\t-202.058\t-849.615\t-38.402\t1125.19\t-1125.35\t28.7105\t461.653\t984.568\t0\t0\t0\t16.4735\t635.273\t-22.0794\t0\t0\t-0.0305622\t-53.785\t6.44538\t0\n",
      "WT_2oun_Repair_1.pdb\t-221.5\t-549.317\t-202.032\t-850.499\t-38.3605\t1126.19\t-1127\t25.7969\t462.21\t984.493\t0\t0\t0\t16.4745\t637.637\t-22.0794\t0\t0\t-0.0305622\t-53.785\t6.44538\t0\n"
     ]
    }
   ],
   "source": [
    "!cat ../lib/buildmodel_example_repaired/Raw_2oun_Repair.fxout"
   ]
  },
  {
   "attachments": {},
   "cell_type": "markdown",
   "id": "0ab4f9ff-c0a9-4aeb-812c-2c21e1b8748a",
   "metadata": {},
   "source": [
    "**The change in energy from the WT to the mutated is the same (~5), but the \"repaired\" protein has a lower energy.**"
   ]
  },
  {
   "attachments": {},
   "cell_type": "markdown",
   "id": "08249af0-a840-4f65-a2db-a3da1b8b6314",
   "metadata": {},
   "source": [
    "### Example 2 with 2oun"
   ]
  },
  {
   "cell_type": "raw",
   "id": "ca97bb2b-0ec3-44c0-a218-45badaeb22d2",
   "metadata": {
    "tags": []
   },
   "source": [
    "buildmodel_example2$ ll\n",
    "total 499K\n",
    "-rw-r--r-- 1 guzmanfj g-guzmanfj 498K Apr 19 16:07 2oun.pdb\n",
    "-rw-r--r-- 1 guzmanfj g-guzmanfj    8 Apr 19 16:08 individual_list.txt\n",
    "lrwxr-xr-x 1 guzmanfj g-guzmanfj   62 Apr 19 16:08 rotabase.txt -> /ibex/scratch/guzmanfj/py/aroldlab/FoldX_ibex/lib/rotabase.txt\n",
    "\n",
    "\n",
    "buildmodel_example2$ ../foldx_20221231 --command=BuildModel --pdb=2oun.pdb --mutant-file=individual_list.txt\n",
    "   ********************************************\n",
    "   ***                                      ***\n",
    "   ***             FoldX 5 (c)              ***\n",
    "   ***                                      ***\n",
    "   ***     code by the FoldX Consortium     ***\n",
    "   ***                                      ***\n",
    "   ***     Jesper Borg, Frederic Rousseau   ***\n",
    "   ***    Joost Schymkowitz, Luis Serrano   ***\n",
    "   ***    Peter Vanhee, Erik Verschueren    ***\n",
    "   ***     Lies Baeten, Javier Delgado      ***\n",
    "   ***       and Francois Stricher          ***\n",
    "   *** and any other of the 9! permutations ***\n",
    "   ***   based on an original concept by    ***\n",
    "   ***   Raphael Guerois and Luis Serrano   ***\n",
    "   ********************************************\n",
    "\n",
    "1 models read: 2oun.pdb\n",
    "Output: ./2oun.log\n",
    "\n",
    "BackHbond       =               -496.83\n",
    "SideHbond       =               -105.93\n",
    "Energy_VdW      =               -845.41\n",
    "Electro         =               -44.83\n",
    "Energy_SolvP    =               1169.12\n",
    "Energy_SolvH    =               -1107.69\n",
    "Energy_vdwclash =               90.75\n",
    "energy_torsion  =               28.21\n",
    "backbone_vdwclash=              637.10\n",
    "Entropy_sidec   =               435.30\n",
    "Entropy_mainc   =               982.47\n",
    "water bonds     =               0.00\n",
    "helix dipole    =               -13.45\n",
    "loop_entropy    =               0.00\n",
    "cis_bond        =               0.00\n",
    "disulfide       =               0.00\n",
    "kn electrostatic=               -0.01\n",
    "partial covalent interactions = -49.81\n",
    "Energy_Ionisation =             6.00\n",
    "Entropy Complex =               0.00\n",
    "-----------------------------------------------------------\n",
    "Total          = \t\t\t\t  47.91\n",
    "\n",
    "Starting BuildModel\n",
    "Reading LA561R;\n",
    "Residue to Mutate LEUA561 has residue index 114\n",
    "Mutating residue = LEUA561 into ARG\n",
    "Your file run OK\n",
    "End time of FoldX: Tue Apr 19 22:27:08 2022\n",
    "Total time spend: 8.87 seconds.\n",
    "validated file \"2oun_1.pdb\" => successfully finished\n",
    "Cleaning BuildModel...DONE\n",
    "\n",
    "\n",
    "buildmodel_example2$ ll\n",
    "total 1.2M\n",
    "-rw-r--r-- 1 guzmanfj g-guzmanfj 498K Apr 19 16:07 2oun.pdb\n",
    "-rw-r--r-- 1 guzmanfj g-guzmanfj 347K Apr 19 22:27 2oun_1.pdb\n",
    "-rw-r--r-- 1 guzmanfj g-guzmanfj  767 Apr 19 22:27 Average_2oun.fxout\n",
    "-rw-r--r-- 1 guzmanfj g-guzmanfj  766 Apr 19 22:27 Dif_2oun.fxout\n",
    "-rw-r--r-- 1 guzmanfj g-guzmanfj   25 Apr 19 22:27 PdbList_2oun.fxout\n",
    "-rw-r--r-- 1 guzmanfj g-guzmanfj  910 Apr 19 22:27 Raw_2oun.fxout\n",
    "-rw-r--r-- 1 guzmanfj g-guzmanfj  701 Apr 19 22:26 Unrecognized_molecules.txt\n",
    "-rw-r--r-- 1 guzmanfj g-guzmanfj 347K Apr 19 22:27 WT_2oun_1.pdb\n",
    "-rw-r--r-- 1 guzmanfj g-guzmanfj    8 Apr 19 16:08 individual_list.txt\n",
    "drwxr-xr-x 2 guzmanfj g-guzmanfj    0 Apr 19 22:26 molecules/\n",
    "lrwxr-xr-x 1 guzmanfj g-guzmanfj   62 Apr 19 16:08 rotabase.txt -> /ibex/scratch/guzmanfj/py/aroldlab/FoldX_ibex/lib/rotabase.txt"
   ]
  },
  {
   "cell_type": "code",
   "execution_count": 24,
   "id": "ded75ece-59d9-4b3f-bdaf-0c63525c1667",
   "metadata": {},
   "outputs": [
    {
     "name": "stdout",
     "output_type": "stream",
     "text": [
      "2oun.pdb                   Unrecognized_molecules.txt\n",
      "2oun_1.pdb                 WT_2oun_1.pdb\n",
      "Average_2oun.fxout         individual_list.txt\n",
      "Dif_2oun.fxout             \u001b[1m\u001b[36mmolecules\u001b[m\u001b[m\n",
      "PdbList_2oun.fxout         \u001b[1m\u001b[36mpictures\u001b[m\u001b[m\n",
      "Raw_2oun.fxout             rotabase.txt\n"
     ]
    }
   ],
   "source": [
    "!ls ../lib/buildmodel_example2"
   ]
  },
  {
   "cell_type": "code",
   "execution_count": 17,
   "id": "51cad3a9-0f24-44ad-bf5c-113eba314b4a",
   "metadata": {},
   "outputs": [
    {
     "name": "stdout",
     "output_type": "stream",
     "text": [
      "FoldX 5 (2011)\n",
      "by the FoldX Consortium \n",
      "Jesper Borg, Frederic Rousseau, Joost Schymkowitz,\n",
      "Luis Serrano and Francois Stricher\n",
      "------------------------------------------------------\n",
      "\n",
      "PDB file analysed: batch\n",
      "Output type: BuildModel\n",
      "Pdb\ttotal energy\tBackbone Hbond\tSidechain Hbond\tVan der Waals\tElectrostatics\tSolvation Polar\tSolvation Hydrophobic\tVan der Waals clashes\tentropy sidechain\tentropy mainchain\tsloop_entropy\tmloop_entropy\tcis_bond\ttorsional clash\tbackbone clash\thelix dipole\twater bridge\tdisulfide\telectrostatic kon\tpartial covalent bonds\tenergy Ionisation\tEntropy Complex\n",
      "2oun_1.pdb\t10.3969\t-2.11458e-11\t-1.30515\t-0.717558\t0.724921\t3.69668\t1.25418\t5.83302\t0.868728\t0.098762\t0\t0\t0\t0.297637\t0.000497799\t-0.354289\t0\t0\t-1.72171e-15\t-7.3328e-12\t-1.06581e-14\t0\n"
     ]
    }
   ],
   "source": [
    "!cat ../lib/buildmodel_example2/Dif_2oun.fxout"
   ]
  },
  {
   "cell_type": "code",
   "execution_count": 18,
   "id": "41608fa9-d123-419e-92b0-c26411940f51",
   "metadata": {},
   "outputs": [
    {
     "name": "stdout",
     "output_type": "stream",
     "text": [
      "FoldX 5 (2011)\n",
      "by the FoldX Consortium \n",
      "Jesper Borg, Frederic Rousseau, Joost Schymkowitz,\n",
      "Luis Serrano and Francois Stricher\n",
      "------------------------------------------------------\n",
      "\n",
      "PDB file analysed: batch\n",
      "Output type: BuildModel\n",
      "Pdb\ttotal energy\tBackbone Hbond\tSidechain Hbond\tVan der Waals\tElectrostatics\tSolvation Polar\tSolvation Hydrophobic\tVan der Waals clashes\tentropy sidechain\tentropy mainchain\tsloop_entropy\tmloop_entropy\tcis_bond\ttorsional clash\tbackbone clash\thelix dipole\twater bridge\tdisulfide\telectrostatic kon\tpartial covalent bonds\tenergy Ionisation\tEntropy Complex\n",
      "2oun_1.pdb\t57.9966\t-496.821\t-107.232\t-846.076\t-44.1082\t1172.59\t-1106.46\t96.6003\t436.115\t982.565\t0\t0\t0\t28.4464\t637.095\t-13.8074\t0\t0\t-0.00598712\t-49.8065\t6.00147\t0\n",
      "WT_2oun_1.pdb\t47.5997\t-496.821\t-105.927\t-845.358\t-44.8331\t1168.89\t-1107.71\t90.7673\t435.246\t982.466\t0\t0\t0\t28.1487\t637.095\t-13.4531\t0\t0\t-0.00598712\t-49.8065\t6.00147\t0\n"
     ]
    }
   ],
   "source": [
    "!cat ../lib/buildmodel_example2/Raw_2oun.fxout"
   ]
  },
  {
   "attachments": {},
   "cell_type": "markdown",
   "id": "df6a49f1-a8ba-4e8e-88bd-441840550ee3",
   "metadata": {},
   "source": [
    "Change in energy of 10.39 kcal/mol"
   ]
  },
  {
   "cell_type": "code",
   "execution_count": null,
   "id": "db3b453a-2ead-40d1-9e2e-3927ee2879a2",
   "metadata": {},
   "outputs": [],
   "source": []
  },
  {
   "attachments": {},
   "cell_type": "markdown",
   "id": "57fae8b3-542d-4184-8f63-8e5a2969ea26",
   "metadata": {},
   "source": [
    "<img src=\"../lib/buildmodel_example2/pictures/WT_mut.png\" style=\"height:500px\">"
   ]
  },
  {
   "cell_type": "code",
   "execution_count": 1,
   "id": "52d9787f-c806-431e-918e-383652d03c45",
   "metadata": {},
   "outputs": [],
   "source": [
    "import pandas as pd"
   ]
  },
  {
   "cell_type": "code",
   "execution_count": 2,
   "id": "8651fe6b-4d0a-415b-a9c5-ca3bd42734cf",
   "metadata": {},
   "outputs": [],
   "source": [
    "build = pd.read_csv('../lib/buildmodel_example2/Raw_2oun.fxout', sep='\\t', header=7)\n",
    "build = build.T.drop(['Pdb']).astype('float64')\n",
    "build.columns = ['Mutated', 'WT']"
   ]
  },
  {
   "cell_type": "code",
   "execution_count": 3,
   "id": "c635515f-5595-4327-ab12-7704f240f4fe",
   "metadata": {},
   "outputs": [],
   "source": [
    "build[\"diff\"] = (build.Mutated - build.WT)"
   ]
  },
  {
   "cell_type": "code",
   "execution_count": 4,
   "id": "6954c88b-227f-4ea5-99ab-313060c6af17",
   "metadata": {},
   "outputs": [],
   "source": [
    "import seaborn as sns\n",
    "cm = sns.color_palette(\"coolwarm\", as_cmap=True)"
   ]
  },
  {
   "cell_type": "code",
   "execution_count": 5,
   "id": "58b2a6f7-9ce0-455d-8b0d-175db30d27d1",
   "metadata": {},
   "outputs": [
    {
     "data": {
      "text/html": [
       "<style type=\"text/css\">\n",
       "#T_649a3 td:hover {\n",
       "  background-color: #ffffb3;\n",
       "}\n",
       "#T_649a3_row1_col2, #T_649a3_row10_col2, #T_649a3_row11_col2, #T_649a3_row12_col2, #T_649a3_row14_col2, #T_649a3_row16_col2, #T_649a3_row17_col2, #T_649a3_row18_col2, #T_649a3_row19_col2, #T_649a3_row20_col2, #T_649a3_row21_col2 {\n",
       "  background-color: #dddcdc;\n",
       "  color: #000000;\n",
       "}\n",
       "#T_649a3_row2_col2 {\n",
       "  background-color: #abc8fd;\n",
       "  color: #000000;\n",
       "}\n",
       "#T_649a3_row3_col2 {\n",
       "  background-color: #c4d5f3;\n",
       "  color: #000000;\n",
       "}\n",
       "#T_649a3_row4_col2 {\n",
       "  background-color: #f1cdba;\n",
       "  color: #000000;\n",
       "}\n",
       "#T_649a3_row5_col2 {\n",
       "  background-color: #c12b30;\n",
       "  color: #f1f1f1;\n",
       "}\n",
       "#T_649a3_row6_col2 {\n",
       "  background-color: #f7ba9f;\n",
       "  color: #000000;\n",
       "}\n",
       "#T_649a3_row7_col2 {\n",
       "  background-color: #b40426;\n",
       "  color: #f1f1f1;\n",
       "}\n",
       "#T_649a3_row8_col2 {\n",
       "  background-color: #f2c9b4;\n",
       "  color: #000000;\n",
       "}\n",
       "#T_649a3_row9_col2 {\n",
       "  background-color: #e0dbd8;\n",
       "  color: #000000;\n",
       "}\n",
       "#T_649a3_row13_col2 {\n",
       "  background-color: #e6d7cf;\n",
       "  color: #000000;\n",
       "}\n",
       "#T_649a3_row15_col2 {\n",
       "  background-color: #d1dae9;\n",
       "  color: #000000;\n",
       "}\n",
       "</style>\n",
       "<table id=\"T_649a3\">\n",
       "  <thead>\n",
       "    <tr>\n",
       "      <th class=\"blank level0\" >&nbsp;</th>\n",
       "      <th id=\"T_649a3_level0_col0\" class=\"col_heading level0 col0\" >Mutated</th>\n",
       "      <th id=\"T_649a3_level0_col1\" class=\"col_heading level0 col1\" >WT</th>\n",
       "      <th id=\"T_649a3_level0_col2\" class=\"col_heading level0 col2\" >diff</th>\n",
       "    </tr>\n",
       "  </thead>\n",
       "  <tbody>\n",
       "    <tr>\n",
       "      <th id=\"T_649a3_level0_row0\" class=\"row_heading level0 row0\" >total energy</th>\n",
       "      <td id=\"T_649a3_row0_col0\" class=\"data row0 col0\" >57.997</td>\n",
       "      <td id=\"T_649a3_row0_col1\" class=\"data row0 col1\" >47.600</td>\n",
       "      <td id=\"T_649a3_row0_col2\" class=\"data row0 col2\" >10.397</td>\n",
       "    </tr>\n",
       "    <tr>\n",
       "      <th id=\"T_649a3_level0_row1\" class=\"row_heading level0 row1\" >Backbone Hbond</th>\n",
       "      <td id=\"T_649a3_row1_col0\" class=\"data row1 col0\" >-496.821</td>\n",
       "      <td id=\"T_649a3_row1_col1\" class=\"data row1 col1\" >-496.821</td>\n",
       "      <td id=\"T_649a3_row1_col2\" class=\"data row1 col2\" >0.000</td>\n",
       "    </tr>\n",
       "    <tr>\n",
       "      <th id=\"T_649a3_level0_row2\" class=\"row_heading level0 row2\" >Sidechain Hbond</th>\n",
       "      <td id=\"T_649a3_row2_col0\" class=\"data row2 col0\" >-107.232</td>\n",
       "      <td id=\"T_649a3_row2_col1\" class=\"data row2 col1\" >-105.927</td>\n",
       "      <td id=\"T_649a3_row2_col2\" class=\"data row2 col2\" >-1.305</td>\n",
       "    </tr>\n",
       "    <tr>\n",
       "      <th id=\"T_649a3_level0_row3\" class=\"row_heading level0 row3\" >Van der Waals</th>\n",
       "      <td id=\"T_649a3_row3_col0\" class=\"data row3 col0\" >-846.076</td>\n",
       "      <td id=\"T_649a3_row3_col1\" class=\"data row3 col1\" >-845.358</td>\n",
       "      <td id=\"T_649a3_row3_col2\" class=\"data row3 col2\" >-0.718</td>\n",
       "    </tr>\n",
       "    <tr>\n",
       "      <th id=\"T_649a3_level0_row4\" class=\"row_heading level0 row4\" >Electrostatics</th>\n",
       "      <td id=\"T_649a3_row4_col0\" class=\"data row4 col0\" >-44.108</td>\n",
       "      <td id=\"T_649a3_row4_col1\" class=\"data row4 col1\" >-44.833</td>\n",
       "      <td id=\"T_649a3_row4_col2\" class=\"data row4 col2\" >0.725</td>\n",
       "    </tr>\n",
       "    <tr>\n",
       "      <th id=\"T_649a3_level0_row5\" class=\"row_heading level0 row5\" >Solvation Polar</th>\n",
       "      <td id=\"T_649a3_row5_col0\" class=\"data row5 col0\" >1172.590</td>\n",
       "      <td id=\"T_649a3_row5_col1\" class=\"data row5 col1\" >1168.890</td>\n",
       "      <td id=\"T_649a3_row5_col2\" class=\"data row5 col2\" >3.700</td>\n",
       "    </tr>\n",
       "    <tr>\n",
       "      <th id=\"T_649a3_level0_row6\" class=\"row_heading level0 row6\" >Solvation Hydrophobic</th>\n",
       "      <td id=\"T_649a3_row6_col0\" class=\"data row6 col0\" >-1106.460</td>\n",
       "      <td id=\"T_649a3_row6_col1\" class=\"data row6 col1\" >-1107.710</td>\n",
       "      <td id=\"T_649a3_row6_col2\" class=\"data row6 col2\" >1.250</td>\n",
       "    </tr>\n",
       "    <tr>\n",
       "      <th id=\"T_649a3_level0_row7\" class=\"row_heading level0 row7\" >Van der Waals clashes</th>\n",
       "      <td id=\"T_649a3_row7_col0\" class=\"data row7 col0\" >96.600</td>\n",
       "      <td id=\"T_649a3_row7_col1\" class=\"data row7 col1\" >90.767</td>\n",
       "      <td id=\"T_649a3_row7_col2\" class=\"data row7 col2\" >5.833</td>\n",
       "    </tr>\n",
       "    <tr>\n",
       "      <th id=\"T_649a3_level0_row8\" class=\"row_heading level0 row8\" >entropy sidechain</th>\n",
       "      <td id=\"T_649a3_row8_col0\" class=\"data row8 col0\" >436.115</td>\n",
       "      <td id=\"T_649a3_row8_col1\" class=\"data row8 col1\" >435.246</td>\n",
       "      <td id=\"T_649a3_row8_col2\" class=\"data row8 col2\" >0.869</td>\n",
       "    </tr>\n",
       "    <tr>\n",
       "      <th id=\"T_649a3_level0_row9\" class=\"row_heading level0 row9\" >entropy mainchain</th>\n",
       "      <td id=\"T_649a3_row9_col0\" class=\"data row9 col0\" >982.565</td>\n",
       "      <td id=\"T_649a3_row9_col1\" class=\"data row9 col1\" >982.466</td>\n",
       "      <td id=\"T_649a3_row9_col2\" class=\"data row9 col2\" >0.099</td>\n",
       "    </tr>\n",
       "    <tr>\n",
       "      <th id=\"T_649a3_level0_row10\" class=\"row_heading level0 row10\" >sloop_entropy</th>\n",
       "      <td id=\"T_649a3_row10_col0\" class=\"data row10 col0\" >0.000</td>\n",
       "      <td id=\"T_649a3_row10_col1\" class=\"data row10 col1\" >0.000</td>\n",
       "      <td id=\"T_649a3_row10_col2\" class=\"data row10 col2\" >0.000</td>\n",
       "    </tr>\n",
       "    <tr>\n",
       "      <th id=\"T_649a3_level0_row11\" class=\"row_heading level0 row11\" >mloop_entropy</th>\n",
       "      <td id=\"T_649a3_row11_col0\" class=\"data row11 col0\" >0.000</td>\n",
       "      <td id=\"T_649a3_row11_col1\" class=\"data row11 col1\" >0.000</td>\n",
       "      <td id=\"T_649a3_row11_col2\" class=\"data row11 col2\" >0.000</td>\n",
       "    </tr>\n",
       "    <tr>\n",
       "      <th id=\"T_649a3_level0_row12\" class=\"row_heading level0 row12\" >cis_bond</th>\n",
       "      <td id=\"T_649a3_row12_col0\" class=\"data row12 col0\" >0.000</td>\n",
       "      <td id=\"T_649a3_row12_col1\" class=\"data row12 col1\" >0.000</td>\n",
       "      <td id=\"T_649a3_row12_col2\" class=\"data row12 col2\" >0.000</td>\n",
       "    </tr>\n",
       "    <tr>\n",
       "      <th id=\"T_649a3_level0_row13\" class=\"row_heading level0 row13\" >torsional clash</th>\n",
       "      <td id=\"T_649a3_row13_col0\" class=\"data row13 col0\" >28.446</td>\n",
       "      <td id=\"T_649a3_row13_col1\" class=\"data row13 col1\" >28.149</td>\n",
       "      <td id=\"T_649a3_row13_col2\" class=\"data row13 col2\" >0.298</td>\n",
       "    </tr>\n",
       "    <tr>\n",
       "      <th id=\"T_649a3_level0_row14\" class=\"row_heading level0 row14\" >backbone clash</th>\n",
       "      <td id=\"T_649a3_row14_col0\" class=\"data row14 col0\" >637.095</td>\n",
       "      <td id=\"T_649a3_row14_col1\" class=\"data row14 col1\" >637.095</td>\n",
       "      <td id=\"T_649a3_row14_col2\" class=\"data row14 col2\" >0.000</td>\n",
       "    </tr>\n",
       "    <tr>\n",
       "      <th id=\"T_649a3_level0_row15\" class=\"row_heading level0 row15\" >helix dipole</th>\n",
       "      <td id=\"T_649a3_row15_col0\" class=\"data row15 col0\" >-13.807</td>\n",
       "      <td id=\"T_649a3_row15_col1\" class=\"data row15 col1\" >-13.453</td>\n",
       "      <td id=\"T_649a3_row15_col2\" class=\"data row15 col2\" >-0.354</td>\n",
       "    </tr>\n",
       "    <tr>\n",
       "      <th id=\"T_649a3_level0_row16\" class=\"row_heading level0 row16\" >water bridge</th>\n",
       "      <td id=\"T_649a3_row16_col0\" class=\"data row16 col0\" >0.000</td>\n",
       "      <td id=\"T_649a3_row16_col1\" class=\"data row16 col1\" >0.000</td>\n",
       "      <td id=\"T_649a3_row16_col2\" class=\"data row16 col2\" >0.000</td>\n",
       "    </tr>\n",
       "    <tr>\n",
       "      <th id=\"T_649a3_level0_row17\" class=\"row_heading level0 row17\" >disulfide</th>\n",
       "      <td id=\"T_649a3_row17_col0\" class=\"data row17 col0\" >0.000</td>\n",
       "      <td id=\"T_649a3_row17_col1\" class=\"data row17 col1\" >0.000</td>\n",
       "      <td id=\"T_649a3_row17_col2\" class=\"data row17 col2\" >0.000</td>\n",
       "    </tr>\n",
       "    <tr>\n",
       "      <th id=\"T_649a3_level0_row18\" class=\"row_heading level0 row18\" >electrostatic kon</th>\n",
       "      <td id=\"T_649a3_row18_col0\" class=\"data row18 col0\" >-0.006</td>\n",
       "      <td id=\"T_649a3_row18_col1\" class=\"data row18 col1\" >-0.006</td>\n",
       "      <td id=\"T_649a3_row18_col2\" class=\"data row18 col2\" >0.000</td>\n",
       "    </tr>\n",
       "    <tr>\n",
       "      <th id=\"T_649a3_level0_row19\" class=\"row_heading level0 row19\" >partial covalent bonds</th>\n",
       "      <td id=\"T_649a3_row19_col0\" class=\"data row19 col0\" >-49.806</td>\n",
       "      <td id=\"T_649a3_row19_col1\" class=\"data row19 col1\" >-49.806</td>\n",
       "      <td id=\"T_649a3_row19_col2\" class=\"data row19 col2\" >0.000</td>\n",
       "    </tr>\n",
       "    <tr>\n",
       "      <th id=\"T_649a3_level0_row20\" class=\"row_heading level0 row20\" >energy Ionisation</th>\n",
       "      <td id=\"T_649a3_row20_col0\" class=\"data row20 col0\" >6.001</td>\n",
       "      <td id=\"T_649a3_row20_col1\" class=\"data row20 col1\" >6.001</td>\n",
       "      <td id=\"T_649a3_row20_col2\" class=\"data row20 col2\" >0.000</td>\n",
       "    </tr>\n",
       "    <tr>\n",
       "      <th id=\"T_649a3_level0_row21\" class=\"row_heading level0 row21\" >Entropy Complex</th>\n",
       "      <td id=\"T_649a3_row21_col0\" class=\"data row21 col0\" >0.000</td>\n",
       "      <td id=\"T_649a3_row21_col1\" class=\"data row21 col1\" >0.000</td>\n",
       "      <td id=\"T_649a3_row21_col2\" class=\"data row21 col2\" >0.000</td>\n",
       "    </tr>\n",
       "  </tbody>\n",
       "</table>\n"
      ],
      "text/plain": [
       "<pandas.io.formats.style.Styler at 0x12a6e55a0>"
      ]
     },
     "execution_count": 5,
     "metadata": {},
     "output_type": "execute_result"
    }
   ],
   "source": [
    "cell_hover = {  # for row hover use <tr> instead of <td>\n",
    "    'selector': 'td:hover',\n",
    "    'props': [('background-color', '#ffffb3')]\n",
    "}\n",
    "\n",
    "def make_pretty(styler):\n",
    "    styler.format(precision=3)\n",
    "    styler.set_table_styles([cell_hover])\n",
    "    styler.background_gradient(axis=0, cmap=cm, subset=pd.IndexSlice[\"Backbone Hbond\":,\"diff\"], vmin=-4, vmax=4)\n",
    "    return styler\n",
    "\n",
    "build.style.pipe(make_pretty)"
   ]
  },
  {
   "attachments": {},
   "cell_type": "markdown",
   "id": "e005ec13-c312-45d8-899b-7b1f527f700f",
   "metadata": {},
   "source": [
    "#### Calculate stability of `2oun.pdb`, `2oun_1.pdb` and `WT_2oun_1.pdb`"
   ]
  },
  {
   "cell_type": "raw",
   "id": "4c5f812f-408b-4a12-b626-b07dd1603a39",
   "metadata": {
    "tags": []
   },
   "source": [
    "(base) login509-02-r:/ibex/scratch/guzmanfj/py/aroldlab/FoldX_ibex/lib/stability_build2$ ../foldx_20221231 --command=Stability --pdb=2oun.pdb\n",
    "   ********************************************\n",
    "   ***                                      ***\n",
    "   ***             FoldX 5 (c)              ***\n",
    "   ***                                      ***\n",
    "   ***     code by the FoldX Consortium     ***\n",
    "   ***                                      ***\n",
    "   ***     Jesper Borg, Frederic Rousseau   ***\n",
    "   ***    Joost Schymkowitz, Luis Serrano   ***\n",
    "   ***    Peter Vanhee, Erik Verschueren    ***\n",
    "   ***     Lies Baeten, Javier Delgado      ***\n",
    "   ***       and Francois Stricher          ***\n",
    "   *** and any other of the 9! permutations ***\n",
    "   ***   based on an original concept by    ***\n",
    "   ***   Raphael Guerois and Luis Serrano   ***\n",
    "   ********************************************\n",
    "\n",
    "Stability >>>\n",
    "\n",
    "1 models read: 2oun.pdb\n",
    "./2oun_0_ST.fxout\n",
    "Output Directory: ./\n",
    "Output File: 2oun_0_ST.fxout\n",
    "Configuration File: config_2oun_0_ST.cfg\n",
    "\n",
    "BackHbond       =               -496.83\n",
    "SideHbond       =               -105.93\n",
    "Energy_VdW      =               -845.41\n",
    "Electro         =               -44.83\n",
    "Energy_SolvP    =               1169.12\n",
    "Energy_SolvH    =               -1107.69\n",
    "Energy_vdwclash =               90.75\n",
    "energy_torsion  =               28.21\n",
    "backbone_vdwclash=              637.10\n",
    "Entropy_sidec   =               435.30\n",
    "Entropy_mainc   =               982.47\n",
    "water bonds     =               0.00\n",
    "helix dipole    =               -13.45\n",
    "loop_entropy    =               0.00\n",
    "cis_bond        =               0.00\n",
    "disulfide       =               0.00\n",
    "kn electrostatic=               -0.01\n",
    "partial covalent interactions = -49.81\n",
    "Energy_Ionisation =             6.00\n",
    "Entropy Complex =               0.00\n",
    "-----------------------------------------------------------\n",
    "Total          = \t\t\t\t  47.91\n",
    "\n",
    "FINISHING STABILITY ANALYSIS OPTION\n",
    "\n",
    "Your file run OK\n",
    "End time of FoldX: Wed Apr 20 14:06:03 2022\n",
    "Total time spend: 4.43 seconds.\n",
    "(base) login509-02-r:/ibex/scratch/guzmanfj/py/aroldlab/FoldX_ibex/lib/stability_build2$ ../foldx_20221231 --command=Stability --pdb=2oun_1.pdb\n",
    "   ********************************************\n",
    "   ***                                      ***\n",
    "   ***             FoldX 5 (c)              ***\n",
    "   ***                                      ***\n",
    "   ***     code by the FoldX Consortium     ***\n",
    "   ***                                      ***\n",
    "   ***     Jesper Borg, Frederic Rousseau   ***\n",
    "   ***    Joost Schymkowitz, Luis Serrano   ***\n",
    "   ***    Peter Vanhee, Erik Verschueren    ***\n",
    "   ***     Lies Baeten, Javier Delgado      ***\n",
    "   ***       and Francois Stricher          ***\n",
    "   *** and any other of the 9! permutations ***\n",
    "   ***   based on an original concept by    ***\n",
    "   ***   Raphael Guerois and Luis Serrano   ***\n",
    "   ********************************************\n",
    "\n",
    "Stability >>>\n",
    "\n",
    "1 models read: 2oun_1.pdb\n",
    "./2oun_1_0_ST.fxout\n",
    "Output Directory: ./\n",
    "Output File: 2oun_1_0_ST.fxout\n",
    "Configuration File: config_2oun_1_0_ST.cfg\n",
    "\n",
    "BackHbond       =               -496.82\n",
    "SideHbond       =               -107.23\n",
    "Energy_VdW      =               -846.08\n",
    "Electro         =               -44.11\n",
    "Energy_SolvP    =               1172.59\n",
    "Energy_SolvH    =               -1106.46\n",
    "Energy_vdwclash =               96.60\n",
    "energy_torsion  =               28.45\n",
    "backbone_vdwclash=              637.10\n",
    "Entropy_sidec   =               436.11\n",
    "Entropy_mainc   =               982.56\n",
    "water bonds     =               0.00\n",
    "helix dipole    =               -13.81\n",
    "loop_entropy    =               0.00\n",
    "cis_bond        =               0.00\n",
    "disulfide       =               0.00\n",
    "kn electrostatic=               -0.01\n",
    "partial covalent interactions = -49.81\n",
    "Energy_Ionisation =             6.00\n",
    "Entropy Complex =               0.00\n",
    "-----------------------------------------------------------\n",
    "Total          = \t\t\t\t  58.00\n",
    "\n",
    "FINISHING STABILITY ANALYSIS OPTION\n",
    "\n",
    "Your file run OK\n",
    "End time of FoldX: Wed Apr 20 14:06:21 2022\n",
    "Total time spend: 4.44 seconds.\n",
    "(base) login509-02-r:/ibex/scratch/guzmanfj/py/aroldlab/FoldX_ibex/lib/stability_build2$ ../foldx_20221231 --command=Stability --pdb=WT_2oun_1.pdb\n",
    "   ********************************************\n",
    "   ***                                      ***\n",
    "   ***             FoldX 5 (c)              ***\n",
    "   ***                                      ***\n",
    "   ***     code by the FoldX Consortium     ***\n",
    "   ***                                      ***\n",
    "   ***     Jesper Borg, Frederic Rousseau   ***\n",
    "   ***    Joost Schymkowitz, Luis Serrano   ***\n",
    "   ***    Peter Vanhee, Erik Verschueren    ***\n",
    "   ***     Lies Baeten, Javier Delgado      ***\n",
    "   ***       and Francois Stricher          ***\n",
    "   *** and any other of the 9! permutations ***\n",
    "   ***   based on an original concept by    ***\n",
    "   ***   Raphael Guerois and Luis Serrano   ***\n",
    "   ********************************************\n",
    "\n",
    "Stability >>>\n",
    "\n",
    "1 models read: WT_2oun_1.pdb\n",
    "./WT_2oun_1_0_ST.fxout\n",
    "Output Directory: ./\n",
    "Output File: WT_2oun_1_0_ST.fxout\n",
    "Configuration File: config_WT_2oun_1_0_ST.cfg\n",
    "\n",
    "BackHbond       =               -497.61\n",
    "SideHbond       =               -106.60\n",
    "Energy_VdW      =               -845.86\n",
    "Electro         =               -44.71\n",
    "Energy_SolvP    =               1168.83\n",
    "Energy_SolvH    =               -1108.47\n",
    "Energy_vdwclash =               90.27\n",
    "energy_torsion  =               28.18\n",
    "backbone_vdwclash=              637.37\n",
    "Entropy_sidec   =               435.39\n",
    "Entropy_mainc   =               982.41\n",
    "water bonds     =               0.00\n",
    "helix dipole    =               -13.48\n",
    "loop_entropy    =               0.00\n",
    "cis_bond        =               0.00\n",
    "disulfide       =               0.00\n",
    "kn electrostatic=               -0.01\n",
    "partial covalent interactions = -50.75\n",
    "Energy_Ionisation =             6.00\n",
    "Entropy Complex =               0.00\n",
    "-----------------------------------------------------------\n",
    "Total          = \t\t\t\t  43.58\n",
    "\n",
    "FINISHING STABILITY ANALYSIS OPTION\n",
    "\n",
    "Your file run OK\n",
    "End time of FoldX: Wed Apr 20 14:06:32 2022\n",
    "Total time spend: 4.37 seconds."
   ]
  },
  {
   "attachments": {},
   "cell_type": "markdown",
   "id": "4d9d46d2-be1a-440a-9ffa-a2abcb5f4722",
   "metadata": {},
   "source": [
    "The original `2oun.pdb` seems to be less stable than the modified WT, but more stable than the mutated."
   ]
  },
  {
   "attachments": {},
   "cell_type": "markdown",
   "id": "2e18d036-4f51-4272-b30c-a2ba32c61d7f",
   "metadata": {},
   "source": [
    "### Example 2 with 2oun_Repair"
   ]
  },
  {
   "cell_type": "raw",
   "id": "3979d8f9-5400-4f44-a324-dc52c2b12269",
   "metadata": {
    "tags": []
   },
   "source": [
    "buildmodel_example_repaired2$ ll\n",
    "total 348K\n",
    "-rw-r--r-- 1 guzmanfj g-guzmanfj 347K Apr 19 16:32 2oun_Repair.pdb\n",
    "-rw-r--r-- 1 guzmanfj g-guzmanfj    8 Apr 19 16:28 individual_list.txt\n",
    "lrwxr-xr-x 1 guzmanfj g-guzmanfj   62 Apr 19 16:27 rotabase.txt -> /ibex/scratch/guzmanfj/py/aroldlab/FoldX_ibex/lib/rotabase.txt\n",
    "\n",
    "\n",
    "buildmodel_example_repaired2$ ../foldx_20221231 --command=BuildModel --pdb=2oun_Repair.pdb --mutant-file=individual_list.txt\n",
    "   ********************************************\n",
    "   ***                                      ***\n",
    "   ***             FoldX 5 (c)              ***\n",
    "   ***                                      ***\n",
    "   ***     code by the FoldX Consortium     ***\n",
    "   ***                                      ***\n",
    "   ***     Jesper Borg, Frederic Rousseau   ***\n",
    "   ***    Joost Schymkowitz, Luis Serrano   ***\n",
    "   ***    Peter Vanhee, Erik Verschueren    ***\n",
    "   ***     Lies Baeten, Javier Delgado      ***\n",
    "   ***       and Francois Stricher          ***\n",
    "   *** and any other of the 9! permutations ***\n",
    "   ***   based on an original concept by    ***\n",
    "   ***   Raphael Guerois and Luis Serrano   ***\n",
    "   ********************************************\n",
    "\n",
    "1 models read: 2oun_Repair.pdb\n",
    "Output: ./2oun_Repair.log\n",
    "\n",
    "BackHbond       =               -548.54\n",
    "SideHbond       =               -201.34\n",
    "Energy_VdW      =               -850.56\n",
    "Electro         =               -38.45\n",
    "Energy_SolvP    =               1126.53\n",
    "Energy_SolvH    =               -1127.15\n",
    "Energy_vdwclash =               25.93\n",
    "energy_torsion  =               16.49\n",
    "backbone_vdwclash=              637.67\n",
    "Entropy_sidec   =               462.29\n",
    "Entropy_mainc   =               984.50\n",
    "water bonds     =               0.00\n",
    "helix dipole    =               -22.05\n",
    "loop_entropy    =               0.00\n",
    "cis_bond        =               0.00\n",
    "disulfide       =               0.00\n",
    "kn electrostatic=               -0.03\n",
    "partial covalent interactions = -53.62\n",
    "Energy_Ionisation =             6.45\n",
    "Entropy Complex =               0.00\n",
    "-----------------------------------------------------------\n",
    "Total          = \t\t\t\t  -219.57\n",
    "\n",
    "Starting BuildModel\n",
    "Reading LA561R;\n",
    "Residue to Mutate LEUA561 has residue index 114\n",
    "Mutating residue = LEUA561 into ARG\n",
    "Your file run OK\n",
    "End time of FoldX: Tue Apr 19 22:31:31 2022\n",
    "Total time spend: 11.16 seconds.\n",
    "validated file \"2oun_Repair_1.pdb\" => successfully finished\n",
    "Cleaning BuildModel...DONE\n",
    "\n",
    "\n",
    "buildmodel_example_repaired2$ ll\n",
    "total 1.1M\n",
    "-rw-r--r-- 1 guzmanfj g-guzmanfj 347K Apr 19 16:32 2oun_Repair.pdb\n",
    "-rw-r--r-- 1 guzmanfj g-guzmanfj 347K Apr 19 22:31 2oun_Repair_1.pdb\n",
    "-rw-r--r-- 1 guzmanfj g-guzmanfj  766 Apr 19 22:31 Average_2oun_Repair.fxout\n",
    "-rw-r--r-- 1 guzmanfj g-guzmanfj  765 Apr 19 22:31 Dif_2oun_Repair.fxout\n",
    "-rw-r--r-- 1 guzmanfj g-guzmanfj   39 Apr 19 22:31 PdbList_2oun_Repair.fxout\n",
    "-rw-r--r-- 1 guzmanfj g-guzmanfj  919 Apr 19 22:31 Raw_2oun_Repair.fxout\n",
    "-rw-r--r-- 1 guzmanfj g-guzmanfj 347K Apr 19 22:31 WT_2oun_Repair_1.pdb\n",
    "-rw-r--r-- 1 guzmanfj g-guzmanfj    8 Apr 19 16:28 individual_list.txt\n",
    "drwxr-xr-x 2 guzmanfj g-guzmanfj    0 Apr 19 22:31 molecules/\n",
    "lrwxr-xr-x 1 guzmanfj g-guzmanfj   62 Apr 19 16:27 rotabase.txt -> /ibex/scratch/guzmanfj/py/aroldlab/FoldX_ibex/lib/rotabase.txt"
   ]
  },
  {
   "attachments": {},
   "cell_type": "markdown",
   "id": "5573596c-c628-4b16-8d84-6a27bed85603",
   "metadata": {},
   "source": [
    "WT_repaired vs mutant_repaired:"
   ]
  },
  {
   "attachments": {},
   "cell_type": "markdown",
   "id": "2aec7535-91c6-4a9e-a20f-2a1b4ded4111",
   "metadata": {},
   "source": [
    "<img src=\"../lib/buildmodel_example_repaired2/pictures/WT_repaired_mutant_repaired.png\" style=\"height:500px\">"
   ]
  },
  {
   "attachments": {},
   "cell_type": "markdown",
   "id": "b99f862f-ee2f-4760-9b6e-8020a5665593",
   "metadata": {},
   "source": [
    "There are few residues moved besides the mutation"
   ]
  },
  {
   "attachments": {},
   "cell_type": "markdown",
   "id": "6861a7ec-cab7-4835-a367-9f2a43b44426",
   "metadata": {},
   "source": [
    "WT vs mutant_repaired:"
   ]
  },
  {
   "attachments": {},
   "cell_type": "markdown",
   "id": "f8724f0f-716f-4027-afe7-8e9d4c5dbb24",
   "metadata": {},
   "source": [
    "<img src=\"../lib/buildmodel_example_repaired2/pictures/WT_mutant_repaired.png\" style=\"height:500px\">"
   ]
  },
  {
   "attachments": {},
   "cell_type": "markdown",
   "id": "68580ec9-d519-4c65-ace9-3d4b2f800c17",
   "metadata": {},
   "source": [
    "Very similar to repaired version."
   ]
  },
  {
   "cell_type": "code",
   "execution_count": 19,
   "id": "27f8239c-c45b-4f08-8228-dcc33ceb6d59",
   "metadata": {},
   "outputs": [
    {
     "name": "stdout",
     "output_type": "stream",
     "text": [
      "FoldX 5 (2011)\n",
      "by the FoldX Consortium \n",
      "Jesper Borg, Frederic Rousseau, Joost Schymkowitz,\n",
      "Luis Serrano and Francois Stricher\n",
      "------------------------------------------------------\n",
      "\n",
      "PDB file analysed: batch\n",
      "Output type: BuildModel\n",
      "Pdb\ttotal energy\tBackbone Hbond\tSidechain Hbond\tVan der Waals\tElectrostatics\tSolvation Polar\tSolvation Hydrophobic\tVan der Waals clashes\tentropy sidechain\tentropy mainchain\tsloop_entropy\tmloop_entropy\tcis_bond\ttorsional clash\tbackbone clash\thelix dipole\twater bridge\tdisulfide\telectrostatic kon\tpartial covalent bonds\tenergy Ionisation\tEntropy Complex\n",
      "2oun_Repair_1.pdb\t10.5701\t0.00842096\t-1.2946\t-0.727248\t0.697725\t3.80151\t1.26653\t5.55136\t0.917711\t0.100564\t0\t0\t0\t0.601021\t0.0210005\t-0.352933\t0\t0\t4.996e-15\t-1.7053e-12\t-8.88178e-15\t0\n"
     ]
    }
   ],
   "source": [
    "!cat ../lib/buildmodel_example_repaired2/Dif_2oun_Repair.fxout"
   ]
  },
  {
   "cell_type": "code",
   "execution_count": 20,
   "id": "b77db6b8-c897-4802-b08c-1524396953e1",
   "metadata": {},
   "outputs": [
    {
     "name": "stdout",
     "output_type": "stream",
     "text": [
      "FoldX 5 (2011)\n",
      "by the FoldX Consortium \n",
      "Jesper Borg, Frederic Rousseau, Joost Schymkowitz,\n",
      "Luis Serrano and Francois Stricher\n",
      "------------------------------------------------------\n",
      "\n",
      "PDB file analysed: batch\n",
      "Output type: BuildModel\n",
      "Pdb\ttotal energy\tBackbone Hbond\tSidechain Hbond\tVan der Waals\tElectrostatics\tSolvation Polar\tSolvation Hydrophobic\tVan der Waals clashes\tentropy sidechain\tentropy mainchain\tsloop_entropy\tmloop_entropy\tcis_bond\ttorsional clash\tbackbone clash\thelix dipole\twater bridge\tdisulfide\telectrostatic kon\tpartial covalent bonds\tenergy Ionisation\tEntropy Complex\n",
      "2oun_Repair_1.pdb\t-209.255\t-548.536\t-202.637\t-851.318\t-37.7503\t1130.18\t-1125.99\t31.5204\t463.205\t984.588\t0\t0\t0\t17.085\t637.667\t-22.405\t0\t0\t-0.0305622\t-53.6212\t6.44598\t0\n",
      "WT_2oun_Repair_1.pdb\t-219.825\t-548.545\t-201.342\t-850.591\t-38.448\t1126.38\t-1127.25\t25.969\t462.288\t984.488\t0\t0\t0\t16.484\t637.646\t-22.0521\t0\t0\t-0.0305622\t-53.6212\t6.44598\t0\n"
     ]
    }
   ],
   "source": [
    "!cat ../lib/buildmodel_example_repaired2/Raw_2oun_Repair.fxout"
   ]
  },
  {
   "attachments": {},
   "cell_type": "markdown",
   "id": "70d92d04-a56c-478f-af23-77febf1251ae",
   "metadata": {},
   "source": [
    "**The change in energy from the WT to the mutated is the same (~10.5), but the \"repaired\" protein has a lower energy.**"
   ]
  },
  {
   "attachments": {},
   "cell_type": "markdown",
   "id": "18e048f3-95be-4a23-ac72-4d4b5e4077ba",
   "metadata": {},
   "source": [
    "### Example 1 y 2 with 2oun"
   ]
  },
  {
   "cell_type": "raw",
   "id": "c0915947-06d7-4e58-b811-6449ea6c01d2",
   "metadata": {
    "tags": []
   },
   "source": [
    "buildmodel_example2$ ll\n",
    "total 499K\n",
    "-rw-r--r-- 1 guzmanfj g-guzmanfj 498K Apr 19 16:07 2oun.pdb\n",
    "-rw-r--r-- 1 guzmanfj g-guzmanfj    8 Apr 19 16:08 individual_list.txt\n",
    "lrwxr-xr-x 1 guzmanfj g-guzmanfj   62 Apr 19 16:08 rotabase.txt -> /ibex/scratch/guzmanfj/py/aroldlab/FoldX_ibex/lib/rotabase.txt\n",
    "\n",
    "\n",
    "buildmodel_example2$ ../foldx_20221231 --command=BuildModel --pdb=2oun.pdb --mutant-file=individual_list.txt\n",
    "   ********************************************\n",
    "   ***                                      ***\n",
    "   ***             FoldX 5 (c)              ***\n",
    "   ***                                      ***\n",
    "   ***     code by the FoldX Consortium     ***\n",
    "   ***                                      ***\n",
    "   ***     Jesper Borg, Frederic Rousseau   ***\n",
    "   ***    Joost Schymkowitz, Luis Serrano   ***\n",
    "   ***    Peter Vanhee, Erik Verschueren    ***\n",
    "   ***     Lies Baeten, Javier Delgado      ***\n",
    "   ***       and Francois Stricher          ***\n",
    "   *** and any other of the 9! permutations ***\n",
    "   ***   based on an original concept by    ***\n",
    "   ***   Raphael Guerois and Luis Serrano   ***\n",
    "   ********************************************\n",
    "\n",
    "1 models read: 2oun.pdb\n",
    "Output: ./2oun.log\n",
    "\n",
    "BackHbond       =               -496.83\n",
    "SideHbond       =               -105.93\n",
    "Energy_VdW      =               -845.41\n",
    "Electro         =               -44.83\n",
    "Energy_SolvP    =               1169.12\n",
    "Energy_SolvH    =               -1107.69\n",
    "Energy_vdwclash =               90.75\n",
    "energy_torsion  =               28.21\n",
    "backbone_vdwclash=              637.10\n",
    "Entropy_sidec   =               435.30\n",
    "Entropy_mainc   =               982.47\n",
    "water bonds     =               0.00\n",
    "helix dipole    =               -13.45\n",
    "loop_entropy    =               0.00\n",
    "cis_bond        =               0.00\n",
    "disulfide       =               0.00\n",
    "kn electrostatic=               -0.01\n",
    "partial covalent interactions = -49.81\n",
    "Energy_Ionisation =             6.00\n",
    "Entropy Complex =               0.00\n",
    "-----------------------------------------------------------\n",
    "Total          = \t\t\t\t  47.91\n",
    "\n",
    "Starting BuildModel\n",
    "Reading LA561R;\n",
    "Residue to Mutate LEUA561 has residue index 114\n",
    "Mutating residue = LEUA561 into ARG\n",
    "Your file run OK\n",
    "End time of FoldX: Tue Apr 19 22:27:08 2022\n",
    "Total time spend: 8.87 seconds.\n",
    "validated file \"2oun_1.pdb\" => successfully finished\n",
    "Cleaning BuildModel...DONE\n",
    "\n",
    "\n",
    "buildmodel_example2$ ll\n",
    "total 1.2M\n",
    "-rw-r--r-- 1 guzmanfj g-guzmanfj 498K Apr 19 16:07 2oun.pdb\n",
    "-rw-r--r-- 1 guzmanfj g-guzmanfj 347K Apr 19 22:27 2oun_1.pdb\n",
    "-rw-r--r-- 1 guzmanfj g-guzmanfj  767 Apr 19 22:27 Average_2oun.fxout\n",
    "-rw-r--r-- 1 guzmanfj g-guzmanfj  766 Apr 19 22:27 Dif_2oun.fxout\n",
    "-rw-r--r-- 1 guzmanfj g-guzmanfj   25 Apr 19 22:27 PdbList_2oun.fxout\n",
    "-rw-r--r-- 1 guzmanfj g-guzmanfj  910 Apr 19 22:27 Raw_2oun.fxout\n",
    "-rw-r--r-- 1 guzmanfj g-guzmanfj  701 Apr 19 22:26 Unrecognized_molecules.txt\n",
    "-rw-r--r-- 1 guzmanfj g-guzmanfj 347K Apr 19 22:27 WT_2oun_1.pdb\n",
    "-rw-r--r-- 1 guzmanfj g-guzmanfj    8 Apr 19 16:08 individual_list.txt\n",
    "drwxr-xr-x 2 guzmanfj g-guzmanfj    0 Apr 19 22:26 molecules/\n",
    "lrwxr-xr-x 1 guzmanfj g-guzmanfj   62 Apr 19 16:08 rotabase.txt -> /ibex/scratch/guzmanfj/py/aroldlab/FoldX_ibex/lib/rotabase.txt"
   ]
  },
  {
   "cell_type": "code",
   "execution_count": 21,
   "id": "7490e583-ace3-43ec-b493-ac17bb99091e",
   "metadata": {},
   "outputs": [
    {
     "name": "stdout",
     "output_type": "stream",
     "text": [
      "LA675P,LA561R;\n"
     ]
    }
   ],
   "source": [
    "cat ../lib/buildmodel_example12/individual_list.txt"
   ]
  },
  {
   "attachments": {},
   "cell_type": "markdown",
   "id": "cb411506-51d0-40ee-866d-3b7b8cfc1d5f",
   "metadata": {},
   "source": [
    "It changes both residues at the same time."
   ]
  },
  {
   "cell_type": "code",
   "execution_count": 26,
   "id": "ff8c07f4-ecf2-4b6d-94a0-59cf33151e8b",
   "metadata": {},
   "outputs": [
    {
     "name": "stdout",
     "output_type": "stream",
     "text": [
      "2oun.pdb                   Raw_2oun.fxout\n",
      "2oun.pse                   Unrecognized_molecules.txt\n",
      "2oun_1.pdb                 WT_2oun_1.pdb\n",
      "Average_2oun.fxout         individual_list.txt\n",
      "Dif_2oun.fxout             \u001b[1m\u001b[36mmolecules\u001b[m\u001b[m\n",
      "PdbList_2oun.fxout         rotabase.txt\n"
     ]
    }
   ],
   "source": [
    "!ls ../lib/buildmodel_example12"
   ]
  },
  {
   "cell_type": "code",
   "execution_count": 28,
   "id": "fe5eb2b9-f4b7-4d09-89b5-5f5c57e2752a",
   "metadata": {},
   "outputs": [
    {
     "name": "stdout",
     "output_type": "stream",
     "text": [
      "FoldX 5 (2011)\n",
      "by the FoldX Consortium \n",
      "Jesper Borg, Frederic Rousseau, Joost Schymkowitz,\n",
      "Luis Serrano and Francois Stricher\n",
      "------------------------------------------------------\n",
      "\n",
      "PDB file analysed: batch\n",
      "Output type: BuildModel\n",
      "Pdb\ttotal energy\tBackbone Hbond\tSidechain Hbond\tVan der Waals\tElectrostatics\tSolvation Polar\tSolvation Hydrophobic\tVan der Waals clashes\tentropy sidechain\tentropy mainchain\tsloop_entropy\tmloop_entropy\tcis_bond\ttorsional clash\tbackbone clash\thelix dipole\twater bridge\tdisulfide\telectrostatic kon\tpartial covalent bonds\tenergy Ionisation\tEntropy Complex\n",
      "2oun_1.pdb\t15.4029\t1.12696\t-1.30434\t0.288734\t0.706578\t2.60713\t3.11912\t8.67415\t0.219522\t0.174599\t0\t0\t0\t0.143419\t-2.37675\t-0.352973\t0\t0\t-1.7911e-15\t-5.11591e-13\t-1.06581e-14\t0\n"
     ]
    }
   ],
   "source": [
    "!cat ../lib/buildmodel_example12/Dif_2oun.fxout"
   ]
  },
  {
   "cell_type": "code",
   "execution_count": 30,
   "id": "62dc0aa3-b2fc-4ecd-b19c-c52eac2ea095",
   "metadata": {},
   "outputs": [
    {
     "name": "stdout",
     "output_type": "stream",
     "text": [
      "FoldX 5 (2011)\n",
      "by the FoldX Consortium \n",
      "Jesper Borg, Frederic Rousseau, Joost Schymkowitz,\n",
      "Luis Serrano and Francois Stricher\n",
      "------------------------------------------------------\n",
      "\n",
      "PDB file analysed: batch\n",
      "Output type: BuildModel\n",
      "Pdb\ttotal energy\tBackbone Hbond\tSidechain Hbond\tVan der Waals\tElectrostatics\tSolvation Polar\tSolvation Hydrophobic\tVan der Waals clashes\tentropy sidechain\tentropy mainchain\tsloop_entropy\tmloop_entropy\tcis_bond\ttorsional clash\tbackbone clash\thelix dipole\twater bridge\tdisulfide\telectrostatic kon\tpartial covalent bonds\tenergy Ionisation\tEntropy Complex\n",
      "2oun_1.pdb\t58.6384\t-496.499\t-107.907\t-845.66\t-44.0119\t1171.28\t-1105.62\t99.0306\t435.645\t982.573\t0\t0\t0\t28.404\t634.996\t-13.8324\t0\t0\t-0.00598712\t-50.7572\t6.00078\t0\n",
      "WT_2oun_1.pdb\t43.2355\t-497.626\t-106.603\t-845.948\t-44.7185\t1168.67\t-1108.74\t90.3565\t435.426\t982.398\t0\t0\t0\t28.2605\t637.372\t-13.4794\t0\t0\t-0.00598712\t-50.7572\t6.00078\t0\n"
     ]
    }
   ],
   "source": [
    "!cat ../lib/buildmodel_example12/Raw_2oun.fxout"
   ]
  },
  {
   "attachments": {},
   "cell_type": "markdown",
   "id": "48ef73d8-aef0-40cc-925f-a30b8f657807",
   "metadata": {},
   "source": [
    "The difference in energy is more or less the sum of the two energies."
   ]
  },
  {
   "cell_type": "code",
   "execution_count": 1,
   "id": "89c7bece-5393-4cd5-97aa-df7314a9f1ac",
   "metadata": {},
   "outputs": [],
   "source": [
    "import pandas as pd"
   ]
  },
  {
   "cell_type": "code",
   "execution_count": 2,
   "id": "b8423772-3b29-4a9a-9c0e-701726aa8f36",
   "metadata": {},
   "outputs": [],
   "source": [
    "build = pd.read_csv('../lib/buildmodel_example12/Raw_2oun.fxout', sep='\\t', header=7)\n",
    "build = build.T.drop(['Pdb']).astype('float64')\n",
    "build.columns = ['Mutated', 'WT']"
   ]
  },
  {
   "cell_type": "code",
   "execution_count": 3,
   "id": "8e7c150d-5f72-4ee1-8a0a-d04aa1df8c08",
   "metadata": {},
   "outputs": [],
   "source": [
    "build[\"diff\"] = (build.Mutated - build.WT)"
   ]
  },
  {
   "cell_type": "code",
   "execution_count": 4,
   "id": "88184dbd-4a85-41fb-b4d6-a0361a1c5c10",
   "metadata": {},
   "outputs": [],
   "source": [
    "import seaborn as sns\n",
    "cm = sns.color_palette(\"coolwarm\", as_cmap=True)"
   ]
  },
  {
   "cell_type": "code",
   "execution_count": 6,
   "id": "79c718c2-51e4-41b9-8d80-c073ec963e00",
   "metadata": {},
   "outputs": [
    {
     "data": {
      "text/html": [
       "<style type=\"text/css\">\n",
       "#T_ae439 td:hover {\n",
       "  background-color: #ffffb3;\n",
       "}\n",
       "#T_ae439_row1_col2 {\n",
       "  background-color: #edd1c2;\n",
       "  color: #000000;\n",
       "}\n",
       "#T_ae439_row2_col2 {\n",
       "  background-color: #c6d6f1;\n",
       "  color: #000000;\n",
       "}\n",
       "#T_ae439_row3_col2 {\n",
       "  background-color: #e1dad6;\n",
       "  color: #000000;\n",
       "}\n",
       "#T_ae439_row4_col2 {\n",
       "  background-color: #e8d6cc;\n",
       "  color: #000000;\n",
       "}\n",
       "#T_ae439_row5_col2 {\n",
       "  background-color: #f7b99e;\n",
       "  color: #000000;\n",
       "}\n",
       "#T_ae439_row6_col2 {\n",
       "  background-color: #f7af91;\n",
       "  color: #000000;\n",
       "}\n",
       "#T_ae439_row7_col2 {\n",
       "  background-color: #b40426;\n",
       "  color: #f1f1f1;\n",
       "}\n",
       "#T_ae439_row8_col2 {\n",
       "  background-color: #e0dbd8;\n",
       "  color: #000000;\n",
       "}\n",
       "#T_ae439_row9_col2, #T_ae439_row13_col2 {\n",
       "  background-color: #dfdbd9;\n",
       "  color: #000000;\n",
       "}\n",
       "#T_ae439_row10_col2, #T_ae439_row11_col2, #T_ae439_row12_col2, #T_ae439_row16_col2, #T_ae439_row17_col2, #T_ae439_row18_col2, #T_ae439_row19_col2, #T_ae439_row20_col2, #T_ae439_row21_col2 {\n",
       "  background-color: #dddcdc;\n",
       "  color: #000000;\n",
       "}\n",
       "#T_ae439_row14_col2 {\n",
       "  background-color: #afcafc;\n",
       "  color: #000000;\n",
       "}\n",
       "#T_ae439_row15_col2 {\n",
       "  background-color: #d7dce3;\n",
       "  color: #000000;\n",
       "}\n",
       "</style>\n",
       "<table id=\"T_ae439\">\n",
       "  <thead>\n",
       "    <tr>\n",
       "      <th class=\"blank level0\" >&nbsp;</th>\n",
       "      <th id=\"T_ae439_level0_col0\" class=\"col_heading level0 col0\" >Mutated</th>\n",
       "      <th id=\"T_ae439_level0_col1\" class=\"col_heading level0 col1\" >WT</th>\n",
       "      <th id=\"T_ae439_level0_col2\" class=\"col_heading level0 col2\" >diff</th>\n",
       "    </tr>\n",
       "  </thead>\n",
       "  <tbody>\n",
       "    <tr>\n",
       "      <th id=\"T_ae439_level0_row0\" class=\"row_heading level0 row0\" >total energy</th>\n",
       "      <td id=\"T_ae439_row0_col0\" class=\"data row0 col0\" >58.638</td>\n",
       "      <td id=\"T_ae439_row0_col1\" class=\"data row0 col1\" >43.236</td>\n",
       "      <td id=\"T_ae439_row0_col2\" class=\"data row0 col2\" >15.403</td>\n",
       "    </tr>\n",
       "    <tr>\n",
       "      <th id=\"T_ae439_level0_row1\" class=\"row_heading level0 row1\" >Backbone Hbond</th>\n",
       "      <td id=\"T_ae439_row1_col0\" class=\"data row1 col0\" >-496.499</td>\n",
       "      <td id=\"T_ae439_row1_col1\" class=\"data row1 col1\" >-497.626</td>\n",
       "      <td id=\"T_ae439_row1_col2\" class=\"data row1 col2\" >1.127</td>\n",
       "    </tr>\n",
       "    <tr>\n",
       "      <th id=\"T_ae439_level0_row2\" class=\"row_heading level0 row2\" >Sidechain Hbond</th>\n",
       "      <td id=\"T_ae439_row2_col0\" class=\"data row2 col0\" >-107.907</td>\n",
       "      <td id=\"T_ae439_row2_col1\" class=\"data row2 col1\" >-106.603</td>\n",
       "      <td id=\"T_ae439_row2_col2\" class=\"data row2 col2\" >-1.304</td>\n",
       "    </tr>\n",
       "    <tr>\n",
       "      <th id=\"T_ae439_level0_row3\" class=\"row_heading level0 row3\" >Van der Waals</th>\n",
       "      <td id=\"T_ae439_row3_col0\" class=\"data row3 col0\" >-845.660</td>\n",
       "      <td id=\"T_ae439_row3_col1\" class=\"data row3 col1\" >-845.948</td>\n",
       "      <td id=\"T_ae439_row3_col2\" class=\"data row3 col2\" >0.288</td>\n",
       "    </tr>\n",
       "    <tr>\n",
       "      <th id=\"T_ae439_level0_row4\" class=\"row_heading level0 row4\" >Electrostatics</th>\n",
       "      <td id=\"T_ae439_row4_col0\" class=\"data row4 col0\" >-44.012</td>\n",
       "      <td id=\"T_ae439_row4_col1\" class=\"data row4 col1\" >-44.718</td>\n",
       "      <td id=\"T_ae439_row4_col2\" class=\"data row4 col2\" >0.707</td>\n",
       "    </tr>\n",
       "    <tr>\n",
       "      <th id=\"T_ae439_level0_row5\" class=\"row_heading level0 row5\" >Solvation Polar</th>\n",
       "      <td id=\"T_ae439_row5_col0\" class=\"data row5 col0\" >1171.280</td>\n",
       "      <td id=\"T_ae439_row5_col1\" class=\"data row5 col1\" >1168.670</td>\n",
       "      <td id=\"T_ae439_row5_col2\" class=\"data row5 col2\" >2.610</td>\n",
       "    </tr>\n",
       "    <tr>\n",
       "      <th id=\"T_ae439_level0_row6\" class=\"row_heading level0 row6\" >Solvation Hydrophobic</th>\n",
       "      <td id=\"T_ae439_row6_col0\" class=\"data row6 col0\" >-1105.620</td>\n",
       "      <td id=\"T_ae439_row6_col1\" class=\"data row6 col1\" >-1108.740</td>\n",
       "      <td id=\"T_ae439_row6_col2\" class=\"data row6 col2\" >3.120</td>\n",
       "    </tr>\n",
       "    <tr>\n",
       "      <th id=\"T_ae439_level0_row7\" class=\"row_heading level0 row7\" >Van der Waals clashes</th>\n",
       "      <td id=\"T_ae439_row7_col0\" class=\"data row7 col0\" >99.031</td>\n",
       "      <td id=\"T_ae439_row7_col1\" class=\"data row7 col1\" >90.356</td>\n",
       "      <td id=\"T_ae439_row7_col2\" class=\"data row7 col2\" >8.674</td>\n",
       "    </tr>\n",
       "    <tr>\n",
       "      <th id=\"T_ae439_level0_row8\" class=\"row_heading level0 row8\" >entropy sidechain</th>\n",
       "      <td id=\"T_ae439_row8_col0\" class=\"data row8 col0\" >435.645</td>\n",
       "      <td id=\"T_ae439_row8_col1\" class=\"data row8 col1\" >435.426</td>\n",
       "      <td id=\"T_ae439_row8_col2\" class=\"data row8 col2\" >0.219</td>\n",
       "    </tr>\n",
       "    <tr>\n",
       "      <th id=\"T_ae439_level0_row9\" class=\"row_heading level0 row9\" >entropy mainchain</th>\n",
       "      <td id=\"T_ae439_row9_col0\" class=\"data row9 col0\" >982.573</td>\n",
       "      <td id=\"T_ae439_row9_col1\" class=\"data row9 col1\" >982.398</td>\n",
       "      <td id=\"T_ae439_row9_col2\" class=\"data row9 col2\" >0.175</td>\n",
       "    </tr>\n",
       "    <tr>\n",
       "      <th id=\"T_ae439_level0_row10\" class=\"row_heading level0 row10\" >sloop_entropy</th>\n",
       "      <td id=\"T_ae439_row10_col0\" class=\"data row10 col0\" >0.000</td>\n",
       "      <td id=\"T_ae439_row10_col1\" class=\"data row10 col1\" >0.000</td>\n",
       "      <td id=\"T_ae439_row10_col2\" class=\"data row10 col2\" >0.000</td>\n",
       "    </tr>\n",
       "    <tr>\n",
       "      <th id=\"T_ae439_level0_row11\" class=\"row_heading level0 row11\" >mloop_entropy</th>\n",
       "      <td id=\"T_ae439_row11_col0\" class=\"data row11 col0\" >0.000</td>\n",
       "      <td id=\"T_ae439_row11_col1\" class=\"data row11 col1\" >0.000</td>\n",
       "      <td id=\"T_ae439_row11_col2\" class=\"data row11 col2\" >0.000</td>\n",
       "    </tr>\n",
       "    <tr>\n",
       "      <th id=\"T_ae439_level0_row12\" class=\"row_heading level0 row12\" >cis_bond</th>\n",
       "      <td id=\"T_ae439_row12_col0\" class=\"data row12 col0\" >0.000</td>\n",
       "      <td id=\"T_ae439_row12_col1\" class=\"data row12 col1\" >0.000</td>\n",
       "      <td id=\"T_ae439_row12_col2\" class=\"data row12 col2\" >0.000</td>\n",
       "    </tr>\n",
       "    <tr>\n",
       "      <th id=\"T_ae439_level0_row13\" class=\"row_heading level0 row13\" >torsional clash</th>\n",
       "      <td id=\"T_ae439_row13_col0\" class=\"data row13 col0\" >28.404</td>\n",
       "      <td id=\"T_ae439_row13_col1\" class=\"data row13 col1\" >28.261</td>\n",
       "      <td id=\"T_ae439_row13_col2\" class=\"data row13 col2\" >0.143</td>\n",
       "    </tr>\n",
       "    <tr>\n",
       "      <th id=\"T_ae439_level0_row14\" class=\"row_heading level0 row14\" >backbone clash</th>\n",
       "      <td id=\"T_ae439_row14_col0\" class=\"data row14 col0\" >634.996</td>\n",
       "      <td id=\"T_ae439_row14_col1\" class=\"data row14 col1\" >637.372</td>\n",
       "      <td id=\"T_ae439_row14_col2\" class=\"data row14 col2\" >-2.376</td>\n",
       "    </tr>\n",
       "    <tr>\n",
       "      <th id=\"T_ae439_level0_row15\" class=\"row_heading level0 row15\" >helix dipole</th>\n",
       "      <td id=\"T_ae439_row15_col0\" class=\"data row15 col0\" >-13.832</td>\n",
       "      <td id=\"T_ae439_row15_col1\" class=\"data row15 col1\" >-13.479</td>\n",
       "      <td id=\"T_ae439_row15_col2\" class=\"data row15 col2\" >-0.353</td>\n",
       "    </tr>\n",
       "    <tr>\n",
       "      <th id=\"T_ae439_level0_row16\" class=\"row_heading level0 row16\" >water bridge</th>\n",
       "      <td id=\"T_ae439_row16_col0\" class=\"data row16 col0\" >0.000</td>\n",
       "      <td id=\"T_ae439_row16_col1\" class=\"data row16 col1\" >0.000</td>\n",
       "      <td id=\"T_ae439_row16_col2\" class=\"data row16 col2\" >0.000</td>\n",
       "    </tr>\n",
       "    <tr>\n",
       "      <th id=\"T_ae439_level0_row17\" class=\"row_heading level0 row17\" >disulfide</th>\n",
       "      <td id=\"T_ae439_row17_col0\" class=\"data row17 col0\" >0.000</td>\n",
       "      <td id=\"T_ae439_row17_col1\" class=\"data row17 col1\" >0.000</td>\n",
       "      <td id=\"T_ae439_row17_col2\" class=\"data row17 col2\" >0.000</td>\n",
       "    </tr>\n",
       "    <tr>\n",
       "      <th id=\"T_ae439_level0_row18\" class=\"row_heading level0 row18\" >electrostatic kon</th>\n",
       "      <td id=\"T_ae439_row18_col0\" class=\"data row18 col0\" >-0.006</td>\n",
       "      <td id=\"T_ae439_row18_col1\" class=\"data row18 col1\" >-0.006</td>\n",
       "      <td id=\"T_ae439_row18_col2\" class=\"data row18 col2\" >0.000</td>\n",
       "    </tr>\n",
       "    <tr>\n",
       "      <th id=\"T_ae439_level0_row19\" class=\"row_heading level0 row19\" >partial covalent bonds</th>\n",
       "      <td id=\"T_ae439_row19_col0\" class=\"data row19 col0\" >-50.757</td>\n",
       "      <td id=\"T_ae439_row19_col1\" class=\"data row19 col1\" >-50.757</td>\n",
       "      <td id=\"T_ae439_row19_col2\" class=\"data row19 col2\" >0.000</td>\n",
       "    </tr>\n",
       "    <tr>\n",
       "      <th id=\"T_ae439_level0_row20\" class=\"row_heading level0 row20\" >energy Ionisation</th>\n",
       "      <td id=\"T_ae439_row20_col0\" class=\"data row20 col0\" >6.001</td>\n",
       "      <td id=\"T_ae439_row20_col1\" class=\"data row20 col1\" >6.001</td>\n",
       "      <td id=\"T_ae439_row20_col2\" class=\"data row20 col2\" >0.000</td>\n",
       "    </tr>\n",
       "    <tr>\n",
       "      <th id=\"T_ae439_level0_row21\" class=\"row_heading level0 row21\" >Entropy Complex</th>\n",
       "      <td id=\"T_ae439_row21_col0\" class=\"data row21 col0\" >0.000</td>\n",
       "      <td id=\"T_ae439_row21_col1\" class=\"data row21 col1\" >0.000</td>\n",
       "      <td id=\"T_ae439_row21_col2\" class=\"data row21 col2\" >0.000</td>\n",
       "    </tr>\n",
       "  </tbody>\n",
       "</table>\n"
      ],
      "text/plain": [
       "<pandas.io.formats.style.Styler at 0x156aade10>"
      ]
     },
     "execution_count": 6,
     "metadata": {},
     "output_type": "execute_result"
    }
   ],
   "source": [
    "cell_hover = {  # for row hover use <tr> instead of <td>\n",
    "    'selector': 'td:hover',\n",
    "    'props': [('background-color', '#ffffb3')]\n",
    "}\n",
    "\n",
    "def make_pretty(styler):\n",
    "    styler.format(precision=3)\n",
    "    styler.set_table_styles([cell_hover])\n",
    "    styler.background_gradient(axis=0, cmap=cm, subset=pd.IndexSlice[\"Backbone Hbond\":,\"diff\"], vmin=-8, vmax=8)\n",
    "    return styler\n",
    "\n",
    "build.style.pipe(make_pretty)"
   ]
  },
  {
   "attachments": {},
   "cell_type": "markdown",
   "id": "0db6d660-c7d2-4a57-854b-a22fc66aeb81",
   "metadata": {},
   "source": [
    "#### Calculate stability of `2oun.pdb`, `2oun_1.pdb` and `WT_2oun_1.pdb`"
   ]
  },
  {
   "cell_type": "raw",
   "id": "37dc70a1-e78a-412d-bd1a-115c2891377e",
   "metadata": {
    "tags": []
   },
   "source": [
    "(base) login509-02-r:/ibex/scratch/guzmanfj/py/aroldlab/FoldX_ibex/lib/stability_build12$ ../foldx_20221231 --command=Stability --pdb=2oun.pdb\n",
    "   ********************************************\n",
    "   ***                                      ***\n",
    "   ***             FoldX 5 (c)              ***\n",
    "   ***                                      ***\n",
    "   ***     code by the FoldX Consortium     ***\n",
    "   ***                                      ***\n",
    "   ***     Jesper Borg, Frederic Rousseau   ***\n",
    "   ***    Joost Schymkowitz, Luis Serrano   ***\n",
    "   ***    Peter Vanhee, Erik Verschueren    ***\n",
    "   ***     Lies Baeten, Javier Delgado      ***\n",
    "   ***       and Francois Stricher          ***\n",
    "   *** and any other of the 9! permutations ***\n",
    "   ***   based on an original concept by    ***\n",
    "   ***   Raphael Guerois and Luis Serrano   ***\n",
    "   ********************************************\n",
    "\n",
    "Stability >>>\n",
    "\n",
    "1 models read: 2oun.pdb\n",
    "./2oun_0_ST.fxout\n",
    "Output Directory: ./\n",
    "Output File: 2oun_0_ST.fxout\n",
    "Configuration File: config_2oun_0_ST.cfg\n",
    "\n",
    "BackHbond       =               -496.83\n",
    "SideHbond       =               -105.93\n",
    "Energy_VdW      =               -845.41\n",
    "Electro         =               -44.83\n",
    "Energy_SolvP    =               1169.12\n",
    "Energy_SolvH    =               -1107.69\n",
    "Energy_vdwclash =               90.75\n",
    "energy_torsion  =               28.21\n",
    "backbone_vdwclash=              637.10\n",
    "Entropy_sidec   =               435.30\n",
    "Entropy_mainc   =               982.47\n",
    "water bonds     =               0.00\n",
    "helix dipole    =               -13.45\n",
    "loop_entropy    =               0.00\n",
    "cis_bond        =               0.00\n",
    "disulfide       =               0.00\n",
    "kn electrostatic=               -0.01\n",
    "partial covalent interactions = -49.81\n",
    "Energy_Ionisation =             6.00\n",
    "Entropy Complex =               0.00\n",
    "-----------------------------------------------------------\n",
    "Total          = \t\t\t\t  47.91\n",
    "\n",
    "FINISHING STABILITY ANALYSIS OPTION\n",
    "\n",
    "Your file run OK\n",
    "End time of FoldX: Wed Apr 20 14:15:24 2022\n",
    "Total time spend: 4.46 seconds.\n",
    "(base) login509-02-r:/ibex/scratch/guzmanfj/py/aroldlab/FoldX_ibex/lib/stability_build12$ ../foldx_20221231 --command=Stability --pdb=2oun_1.pdb\n",
    "   ********************************************\n",
    "   ***                                      ***\n",
    "   ***             FoldX 5 (c)              ***\n",
    "   ***                                      ***\n",
    "   ***     code by the FoldX Consortium     ***\n",
    "   ***                                      ***\n",
    "   ***     Jesper Borg, Frederic Rousseau   ***\n",
    "   ***    Joost Schymkowitz, Luis Serrano   ***\n",
    "   ***    Peter Vanhee, Erik Verschueren    ***\n",
    "   ***     Lies Baeten, Javier Delgado      ***\n",
    "   ***       and Francois Stricher          ***\n",
    "   *** and any other of the 9! permutations ***\n",
    "   ***   based on an original concept by    ***\n",
    "   ***   Raphael Guerois and Luis Serrano   ***\n",
    "   ********************************************\n",
    "\n",
    "Stability >>>\n",
    "\n",
    "1 models read: 2oun_1.pdb\n",
    "./2oun_1_0_ST.fxout\n",
    "Output Directory: ./\n",
    "Output File: 2oun_1_0_ST.fxout\n",
    "Configuration File: config_2oun_1_0_ST.cfg\n",
    "\n",
    "BackHbond       =               -496.50\n",
    "SideHbond       =               -107.91\n",
    "Energy_VdW      =               -845.66\n",
    "Electro         =               -44.01\n",
    "Energy_SolvP    =               1171.88\n",
    "Energy_SolvH    =               -1105.62\n",
    "Energy_vdwclash =               99.03\n",
    "energy_torsion  =               28.40\n",
    "backbone_vdwclash=              635.00\n",
    "Entropy_sidec   =               435.65\n",
    "Entropy_mainc   =               982.57\n",
    "water bonds     =               0.00\n",
    "helix dipole    =               -13.54\n",
    "loop_entropy    =               0.00\n",
    "cis_bond        =               0.00\n",
    "disulfide       =               0.00\n",
    "kn electrostatic=               -0.01\n",
    "partial covalent interactions = -50.75\n",
    "Energy_Ionisation =             6.00\n",
    "Entropy Complex =               0.00\n",
    "-----------------------------------------------------------\n",
    "Total          = \t\t\t\t  59.54\n",
    "\n",
    "FINISHING STABILITY ANALYSIS OPTION\n",
    "\n",
    "Your file run OK\n",
    "End time of FoldX: Wed Apr 20 14:15:34 2022\n",
    "Total time spend: 4.45 seconds.\n",
    "(base) login509-02-r:/ibex/scratch/guzmanfj/py/aroldlab/FoldX_ibex/lib/stability_build12$ ../foldx_20221231 --command=Stability --pdb=WT_2oun_1.pdb\n",
    "   ********************************************\n",
    "   ***                                      ***\n",
    "   ***             FoldX 5 (c)              ***\n",
    "   ***                                      ***\n",
    "   ***     code by the FoldX Consortium     ***\n",
    "   ***                                      ***\n",
    "   ***     Jesper Borg, Frederic Rousseau   ***\n",
    "   ***    Joost Schymkowitz, Luis Serrano   ***\n",
    "   ***    Peter Vanhee, Erik Verschueren    ***\n",
    "   ***     Lies Baeten, Javier Delgado      ***\n",
    "   ***       and Francois Stricher          ***\n",
    "   *** and any other of the 9! permutations ***\n",
    "   ***   based on an original concept by    ***\n",
    "   ***   Raphael Guerois and Luis Serrano   ***\n",
    "   ********************************************\n",
    "\n",
    "Stability >>>\n",
    "\n",
    "1 models read: WT_2oun_1.pdb\n",
    "./WT_2oun_1_0_ST.fxout\n",
    "Output Directory: ./\n",
    "Output File: WT_2oun_1_0_ST.fxout\n",
    "Configuration File: config_WT_2oun_1_0_ST.cfg\n",
    "\n",
    "BackHbond       =               -497.63\n",
    "SideHbond       =               -106.60\n",
    "Energy_VdW      =               -845.95\n",
    "Electro         =               -44.72\n",
    "Energy_SolvP    =               1168.67\n",
    "Energy_SolvH    =               -1108.74\n",
    "Energy_vdwclash =               90.36\n",
    "energy_torsion  =               28.26\n",
    "backbone_vdwclash=              637.37\n",
    "Entropy_sidec   =               435.43\n",
    "Entropy_mainc   =               982.40\n",
    "water bonds     =               0.00\n",
    "helix dipole    =               -13.48\n",
    "loop_entropy    =               0.00\n",
    "cis_bond        =               0.00\n",
    "disulfide       =               0.00\n",
    "kn electrostatic=               -0.01\n",
    "partial covalent interactions = -50.75\n",
    "Energy_Ionisation =             6.00\n",
    "Entropy Complex =               0.00\n",
    "-----------------------------------------------------------\n",
    "Total          = \t\t\t\t  43.25\n",
    "\n",
    "FINISHING STABILITY ANALYSIS OPTION\n",
    "\n",
    "Your file run OK\n",
    "End time of FoldX: Wed Apr 20 14:15:46 2022\n",
    "Total time spend: 4.37 seconds."
   ]
  },
  {
   "attachments": {},
   "cell_type": "markdown",
   "id": "ad8c17ba-781a-442c-82ff-e1a8f5a5c4ec",
   "metadata": {},
   "source": [
    "The original `2oun.pdb` seems to be less stable than the modified WT, but more stable than the mutated."
   ]
  },
  {
   "cell_type": "code",
   "execution_count": null,
   "id": "09ed0716-7d37-4614-b437-82e392279b49",
   "metadata": {},
   "outputs": [],
   "source": []
  },
  {
   "cell_type": "code",
   "execution_count": null,
   "id": "b9c5d983-ad15-40ed-9b6e-dfc1f4b046ae",
   "metadata": {},
   "outputs": [],
   "source": []
  },
  {
   "cell_type": "code",
   "execution_count": null,
   "id": "72c36eaf-4ff3-4f25-9d1d-6d4899df4003",
   "metadata": {},
   "outputs": [],
   "source": []
  },
  {
   "attachments": {},
   "cell_type": "markdown",
   "id": "8a3317d7-3f3a-4539-a320-f646bfcfd28c",
   "metadata": {},
   "source": [
    "## Conclusion"
   ]
  },
  {
   "attachments": {},
   "cell_type": "markdown",
   "id": "4dcfcd14-5950-477e-a541-135e36bd9c89",
   "metadata": {},
   "source": [
    "Use only the `BuildModel` program, and use the difference in energy as a measure of stability change in the mutated structure. A positive DDG implies a less stable state, and viceversa."
   ]
  },
  {
   "cell_type": "code",
   "execution_count": null,
   "id": "d9915d4b-8dd5-4f53-940f-9c26048697df",
   "metadata": {},
   "outputs": [],
   "source": []
  },
  {
   "attachments": {},
   "cell_type": "markdown",
   "id": "f28abe81-3661-43c8-86a3-f2e6d1d9a14d",
   "metadata": {},
   "source": [
    "# Wrapper output example\n",
    "---"
   ]
  },
  {
   "cell_type": "code",
   "execution_count": 1,
   "id": "8d0ab2a3-f89a-4619-8bbf-b9931e28d567",
   "metadata": {},
   "outputs": [],
   "source": [
    "import pandas as pd"
   ]
  },
  {
   "cell_type": "code",
   "execution_count": 2,
   "id": "7eac4b5e-5a4c-4587-bc36-0c186d74382f",
   "metadata": {},
   "outputs": [
    {
     "data": {
      "text/plain": [
       "total energy              9.771140e+00\n",
       "Backbone Hbond            2.223200e+00\n",
       "Sidechain Hbond          -4.634960e-03\n",
       "Van der Waals             1.865690e+00\n",
       "Electrostatics           -8.505010e-02\n",
       "Solvation Polar          -2.271670e+00\n",
       "Solvation Hydrophobic     3.413760e+00\n",
       "Van der Waals clashes     5.737520e+00\n",
       "entropy sidechain        -1.243670e+00\n",
       "entropy mainchain         1.491200e-01\n",
       "sloop_entropy             0.000000e+00\n",
       "mloop_entropy             0.000000e+00\n",
       "cis_bond                  0.000000e+00\n",
       "torsional clash          -1.312710e-02\n",
       "backbone clash           -4.896720e+00\n",
       "helix dipole              0.000000e+00\n",
       "water bridge              0.000000e+00\n",
       "disulfide                 0.000000e+00\n",
       "electrostatic kon        -8.673620e-18\n",
       "partial covalent bonds    3.325340e-12\n",
       "energy Ionisation         0.000000e+00\n",
       "Entropy Complex           0.000000e+00\n",
       "Name: 0, dtype: float64"
      ]
     },
     "execution_count": 2,
     "metadata": {},
     "output_type": "execute_result"
    }
   ],
   "source": [
    "pd.read_pickle('../output_test/2oun.pkl')"
   ]
  },
  {
   "cell_type": "code",
   "execution_count": null,
   "id": "7eea1bd7-9111-4793-9bb5-71e21914aa15",
   "metadata": {},
   "outputs": [],
   "source": []
  }
 ],
 "metadata": {
  "kernelspec": {
   "display_name": "Python 3 (ipykernel)",
   "language": "python",
   "name": "python3"
  },
  "language_info": {
   "codemirror_mode": {
    "name": "ipython",
    "version": 3
   },
   "file_extension": ".py",
   "mimetype": "text/x-python",
   "name": "python",
   "nbconvert_exporter": "python",
   "pygments_lexer": "ipython3",
   "version": "3.10.11"
  }
 },
 "nbformat": 4,
 "nbformat_minor": 5
}
